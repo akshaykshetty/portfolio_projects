{
 "cells": [
  {
   "cell_type": "markdown",
   "metadata": {
    "papermill": {
     "duration": 0.028885,
     "end_time": "2020-09-19T20:48:27.042416",
     "exception": false,
     "start_time": "2020-09-19T20:48:27.013531",
     "status": "completed"
    },
    "tags": []
   },
   "source": [
    "# Exploring the video game sales data and performing some basic analysis"
   ]
  },
  {
   "cell_type": "markdown",
   "metadata": {
    "papermill": {
     "duration": 0.02862,
     "end_time": "2020-09-19T20:48:27.099140",
     "exception": false,
     "start_time": "2020-09-19T20:48:27.070520",
     "status": "completed"
    },
    "tags": []
   },
   "source": [
    "## Importing the necessary libraries"
   ]
  },
  {
   "cell_type": "code",
   "execution_count": 1,
   "metadata": {
    "execution": {
     "iopub.execute_input": "2020-09-19T20:48:27.165088Z",
     "iopub.status.busy": "2020-09-19T20:48:27.164253Z",
     "iopub.status.idle": "2020-09-19T20:48:28.405677Z",
     "shell.execute_reply": "2020-09-19T20:48:28.404983Z"
    },
    "papermill": {
     "duration": 1.279752,
     "end_time": "2020-09-19T20:48:28.405825",
     "exception": false,
     "start_time": "2020-09-19T20:48:27.126073",
     "status": "completed"
    },
    "tags": []
   },
   "outputs": [
    {
     "name": "stdout",
     "output_type": "stream",
     "text": [
      "Ready!\n"
     ]
    }
   ],
   "source": [
    "#Importing libraries and Reading the file \n",
    "\n",
    "import pandas as pd\n",
    "import numpy as np\n",
    "import matplotlib.pyplot as plt\n",
    "%matplotlib inline\n",
    "import seaborn as sns\n",
    "\n",
    "df = pd.read_csv(\"../input/videogamesales/vgsales.csv\")\n",
    "print('Ready!')"
   ]
  },
  {
   "cell_type": "code",
   "execution_count": 2,
   "metadata": {
    "execution": {
     "iopub.execute_input": "2020-09-19T20:48:28.468100Z",
     "iopub.status.busy": "2020-09-19T20:48:28.467437Z",
     "iopub.status.idle": "2020-09-19T20:48:28.470482Z",
     "shell.execute_reply": "2020-09-19T20:48:28.471059Z"
    },
    "papermill": {
     "duration": 0.037252,
     "end_time": "2020-09-19T20:48:28.471198",
     "exception": false,
     "start_time": "2020-09-19T20:48:28.433946",
     "status": "completed"
    },
    "tags": []
   },
   "outputs": [],
   "source": [
    "df.columns=[\"rank\",\"name\",\"platform\",\"year\",\"genre\",\"publisher\",\"na\",\"eu\",\"jp\",\"rest\",\"gb\"]"
   ]
  },
  {
   "cell_type": "code",
   "execution_count": 3,
   "metadata": {
    "execution": {
     "iopub.execute_input": "2020-09-19T20:48:28.544503Z",
     "iopub.status.busy": "2020-09-19T20:48:28.543750Z",
     "iopub.status.idle": "2020-09-19T20:48:28.556390Z",
     "shell.execute_reply": "2020-09-19T20:48:28.556904Z"
    },
    "papermill": {
     "duration": 0.05887,
     "end_time": "2020-09-19T20:48:28.557047",
     "exception": false,
     "start_time": "2020-09-19T20:48:28.498177",
     "status": "completed"
    },
    "scrolled": true,
    "tags": []
   },
   "outputs": [
    {
     "data": {
      "text/html": [
       "<div>\n",
       "<style scoped>\n",
       "    .dataframe tbody tr th:only-of-type {\n",
       "        vertical-align: middle;\n",
       "    }\n",
       "\n",
       "    .dataframe tbody tr th {\n",
       "        vertical-align: top;\n",
       "    }\n",
       "\n",
       "    .dataframe thead th {\n",
       "        text-align: right;\n",
       "    }\n",
       "</style>\n",
       "<table border=\"1\" class=\"dataframe\">\n",
       "  <thead>\n",
       "    <tr style=\"text-align: right;\">\n",
       "      <th></th>\n",
       "      <th>rank</th>\n",
       "      <th>name</th>\n",
       "      <th>platform</th>\n",
       "      <th>year</th>\n",
       "      <th>genre</th>\n",
       "      <th>publisher</th>\n",
       "      <th>na</th>\n",
       "      <th>eu</th>\n",
       "      <th>jp</th>\n",
       "      <th>rest</th>\n",
       "      <th>gb</th>\n",
       "    </tr>\n",
       "  </thead>\n",
       "  <tbody>\n",
       "    <tr>\n",
       "      <th>0</th>\n",
       "      <td>1</td>\n",
       "      <td>Wii Sports</td>\n",
       "      <td>Wii</td>\n",
       "      <td>2006.0</td>\n",
       "      <td>Sports</td>\n",
       "      <td>Nintendo</td>\n",
       "      <td>41.49</td>\n",
       "      <td>29.02</td>\n",
       "      <td>3.77</td>\n",
       "      <td>8.46</td>\n",
       "      <td>82.74</td>\n",
       "    </tr>\n",
       "    <tr>\n",
       "      <th>1</th>\n",
       "      <td>2</td>\n",
       "      <td>Super Mario Bros.</td>\n",
       "      <td>NES</td>\n",
       "      <td>1985.0</td>\n",
       "      <td>Platform</td>\n",
       "      <td>Nintendo</td>\n",
       "      <td>29.08</td>\n",
       "      <td>3.58</td>\n",
       "      <td>6.81</td>\n",
       "      <td>0.77</td>\n",
       "      <td>40.24</td>\n",
       "    </tr>\n",
       "    <tr>\n",
       "      <th>2</th>\n",
       "      <td>3</td>\n",
       "      <td>Mario Kart Wii</td>\n",
       "      <td>Wii</td>\n",
       "      <td>2008.0</td>\n",
       "      <td>Racing</td>\n",
       "      <td>Nintendo</td>\n",
       "      <td>15.85</td>\n",
       "      <td>12.88</td>\n",
       "      <td>3.79</td>\n",
       "      <td>3.31</td>\n",
       "      <td>35.82</td>\n",
       "    </tr>\n",
       "    <tr>\n",
       "      <th>3</th>\n",
       "      <td>4</td>\n",
       "      <td>Wii Sports Resort</td>\n",
       "      <td>Wii</td>\n",
       "      <td>2009.0</td>\n",
       "      <td>Sports</td>\n",
       "      <td>Nintendo</td>\n",
       "      <td>15.75</td>\n",
       "      <td>11.01</td>\n",
       "      <td>3.28</td>\n",
       "      <td>2.96</td>\n",
       "      <td>33.00</td>\n",
       "    </tr>\n",
       "    <tr>\n",
       "      <th>4</th>\n",
       "      <td>5</td>\n",
       "      <td>Pokemon Red/Pokemon Blue</td>\n",
       "      <td>GB</td>\n",
       "      <td>1996.0</td>\n",
       "      <td>Role-Playing</td>\n",
       "      <td>Nintendo</td>\n",
       "      <td>11.27</td>\n",
       "      <td>8.89</td>\n",
       "      <td>10.22</td>\n",
       "      <td>1.00</td>\n",
       "      <td>31.37</td>\n",
       "    </tr>\n",
       "  </tbody>\n",
       "</table>\n",
       "</div>"
      ],
      "text/plain": [
       "   rank                      name platform    year         genre publisher  \\\n",
       "0     1                Wii Sports      Wii  2006.0        Sports  Nintendo   \n",
       "1     2         Super Mario Bros.      NES  1985.0      Platform  Nintendo   \n",
       "2     3            Mario Kart Wii      Wii  2008.0        Racing  Nintendo   \n",
       "3     4         Wii Sports Resort      Wii  2009.0        Sports  Nintendo   \n",
       "4     5  Pokemon Red/Pokemon Blue       GB  1996.0  Role-Playing  Nintendo   \n",
       "\n",
       "      na     eu     jp  rest     gb  \n",
       "0  41.49  29.02   3.77  8.46  82.74  \n",
       "1  29.08   3.58   6.81  0.77  40.24  \n",
       "2  15.85  12.88   3.79  3.31  35.82  \n",
       "3  15.75  11.01   3.28  2.96  33.00  \n",
       "4  11.27   8.89  10.22  1.00  31.37  "
      ]
     },
     "execution_count": 3,
     "metadata": {},
     "output_type": "execute_result"
    }
   ],
   "source": [
    "df.head()"
   ]
  },
  {
   "cell_type": "markdown",
   "metadata": {
    "papermill": {
     "duration": 0.027615,
     "end_time": "2020-09-19T20:48:28.612540",
     "exception": false,
     "start_time": "2020-09-19T20:48:28.584925",
     "status": "completed"
    },
    "tags": []
   },
   "source": [
    "## **Data Cleaning**\n"
   ]
  },
  {
   "cell_type": "code",
   "execution_count": 4,
   "metadata": {
    "collapsed": true,
    "execution": {
     "iopub.execute_input": "2020-09-19T20:48:28.677308Z",
     "iopub.status.busy": "2020-09-19T20:48:28.676524Z",
     "iopub.status.idle": "2020-09-19T20:48:28.701230Z",
     "shell.execute_reply": "2020-09-19T20:48:28.700134Z"
    },
    "papermill": {
     "duration": 0.060772,
     "end_time": "2020-09-19T20:48:28.701398",
     "exception": false,
     "start_time": "2020-09-19T20:48:28.640626",
     "status": "completed"
    },
    "tags": []
   },
   "outputs": [
    {
     "name": "stdout",
     "output_type": "stream",
     "text": [
      "<class 'pandas.core.frame.DataFrame'>\n",
      "RangeIndex: 16598 entries, 0 to 16597\n",
      "Data columns (total 11 columns):\n",
      " #   Column     Non-Null Count  Dtype  \n",
      "---  ------     --------------  -----  \n",
      " 0   rank       16598 non-null  int64  \n",
      " 1   name       16598 non-null  object \n",
      " 2   platform   16598 non-null  object \n",
      " 3   year       16327 non-null  float64\n",
      " 4   genre      16598 non-null  object \n",
      " 5   publisher  16540 non-null  object \n",
      " 6   na         16598 non-null  float64\n",
      " 7   eu         16598 non-null  float64\n",
      " 8   jp         16598 non-null  float64\n",
      " 9   rest       16598 non-null  float64\n",
      " 10  gb         16598 non-null  float64\n",
      "dtypes: float64(6), int64(1), object(4)\n",
      "memory usage: 1.4+ MB\n"
     ]
    }
   ],
   "source": [
    "df.info()"
   ]
  },
  {
   "cell_type": "code",
   "execution_count": 5,
   "metadata": {
    "collapsed": true,
    "execution": {
     "iopub.execute_input": "2020-09-19T20:48:28.767260Z",
     "iopub.status.busy": "2020-09-19T20:48:28.766113Z",
     "iopub.status.idle": "2020-09-19T20:48:28.773005Z",
     "shell.execute_reply": "2020-09-19T20:48:28.773586Z"
    },
    "papermill": {
     "duration": 0.043427,
     "end_time": "2020-09-19T20:48:28.773761",
     "exception": false,
     "start_time": "2020-09-19T20:48:28.730334",
     "status": "completed"
    },
    "tags": []
   },
   "outputs": [
    {
     "data": {
      "text/plain": [
       "2017.0"
      ]
     },
     "execution_count": 5,
     "metadata": {},
     "output_type": "execute_result"
    }
   ],
   "source": [
    "# A game named 'Imagine: Makeup Artist' had an incorrect year value. Changed it to 2009.\n",
    "df.year = df.year.replace(2020.0, 2009.0)\n",
    "df.year.max()"
   ]
  },
  {
   "cell_type": "code",
   "execution_count": 6,
   "metadata": {
    "collapsed": true,
    "execution": {
     "iopub.execute_input": "2020-09-19T20:48:28.841364Z",
     "iopub.status.busy": "2020-09-19T20:48:28.839086Z",
     "iopub.status.idle": "2020-09-19T20:48:28.847628Z",
     "shell.execute_reply": "2020-09-19T20:48:28.847042Z"
    },
    "papermill": {
     "duration": 0.044847,
     "end_time": "2020-09-19T20:48:28.847767",
     "exception": false,
     "start_time": "2020-09-19T20:48:28.802920",
     "status": "completed"
    },
    "tags": []
   },
   "outputs": [
    {
     "data": {
      "text/plain": [
       "0"
      ]
     },
     "execution_count": 6,
     "metadata": {},
     "output_type": "execute_result"
    }
   ],
   "source": [
    "df['year'] = df['year'].fillna(2009.0)\n",
    "df['year'].isna().sum()"
   ]
  },
  {
   "cell_type": "code",
   "execution_count": 7,
   "metadata": {
    "execution": {
     "iopub.execute_input": "2020-09-19T20:48:28.916259Z",
     "iopub.status.busy": "2020-09-19T20:48:28.915362Z",
     "iopub.status.idle": "2020-09-19T20:48:28.918726Z",
     "shell.execute_reply": "2020-09-19T20:48:28.919335Z"
    },
    "papermill": {
     "duration": 0.040214,
     "end_time": "2020-09-19T20:48:28.919545",
     "exception": false,
     "start_time": "2020-09-19T20:48:28.879331",
     "status": "completed"
    },
    "tags": []
   },
   "outputs": [],
   "source": [
    "#convert type of column to int\n",
    "df['year'] = df['year'].astype('int')"
   ]
  },
  {
   "cell_type": "code",
   "execution_count": 8,
   "metadata": {
    "execution": {
     "iopub.execute_input": "2020-09-19T20:48:28.984607Z",
     "iopub.status.busy": "2020-09-19T20:48:28.983894Z",
     "iopub.status.idle": "2020-09-19T20:48:29.020317Z",
     "shell.execute_reply": "2020-09-19T20:48:29.019621Z"
    },
    "papermill": {
     "duration": 0.070416,
     "end_time": "2020-09-19T20:48:29.020455",
     "exception": false,
     "start_time": "2020-09-19T20:48:28.950039",
     "status": "completed"
    },
    "tags": []
   },
   "outputs": [],
   "source": [
    "#drop 2017 rows as they are just a total of 3 entries. \n",
    "df.drop(df[df['year']==2017.0].index, axis=0, inplace=True)"
   ]
  },
  {
   "cell_type": "code",
   "execution_count": 9,
   "metadata": {
    "collapsed": true,
    "execution": {
     "iopub.execute_input": "2020-09-19T20:48:29.085098Z",
     "iopub.status.busy": "2020-09-19T20:48:29.084425Z",
     "iopub.status.idle": "2020-09-19T20:48:29.095342Z",
     "shell.execute_reply": "2020-09-19T20:48:29.095920Z"
    },
    "papermill": {
     "duration": 0.045314,
     "end_time": "2020-09-19T20:48:29.096099",
     "exception": false,
     "start_time": "2020-09-19T20:48:29.050785",
     "status": "completed"
    },
    "tags": []
   },
   "outputs": [
    {
     "data": {
      "text/plain": [
       "0"
      ]
     },
     "execution_count": 9,
     "metadata": {},
     "output_type": "execute_result"
    }
   ],
   "source": [
    "df['publisher'] = df['publisher'].fillna('Unknown Publisher')\n",
    "df['publisher'].isna().sum()"
   ]
  },
  {
   "cell_type": "code",
   "execution_count": 10,
   "metadata": {
    "execution": {
     "iopub.execute_input": "2020-09-19T20:48:29.162809Z",
     "iopub.status.busy": "2020-09-19T20:48:29.162091Z",
     "iopub.status.idle": "2020-09-19T20:48:29.181458Z",
     "shell.execute_reply": "2020-09-19T20:48:29.181994Z"
    },
    "papermill": {
     "duration": 0.05448,
     "end_time": "2020-09-19T20:48:29.182178",
     "exception": false,
     "start_time": "2020-09-19T20:48:29.127698",
     "status": "completed"
    },
    "tags": []
   },
   "outputs": [
    {
     "name": "stdout",
     "output_type": "stream",
     "text": [
      "<class 'pandas.core.frame.DataFrame'>\n",
      "Int64Index: 16595 entries, 0 to 16597\n",
      "Data columns (total 11 columns):\n",
      " #   Column     Non-Null Count  Dtype  \n",
      "---  ------     --------------  -----  \n",
      " 0   rank       16595 non-null  int64  \n",
      " 1   name       16595 non-null  object \n",
      " 2   platform   16595 non-null  object \n",
      " 3   year       16595 non-null  int64  \n",
      " 4   genre      16595 non-null  object \n",
      " 5   publisher  16595 non-null  object \n",
      " 6   na         16595 non-null  float64\n",
      " 7   eu         16595 non-null  float64\n",
      " 8   jp         16595 non-null  float64\n",
      " 9   rest       16595 non-null  float64\n",
      " 10  gb         16595 non-null  float64\n",
      "dtypes: float64(5), int64(2), object(4)\n",
      "memory usage: 1.5+ MB\n"
     ]
    }
   ],
   "source": [
    "df.info()"
   ]
  },
  {
   "cell_type": "markdown",
   "metadata": {
    "papermill": {
     "duration": 0.030801,
     "end_time": "2020-09-19T20:48:29.244351",
     "exception": false,
     "start_time": "2020-09-19T20:48:29.213550",
     "status": "completed"
    },
    "tags": []
   },
   "source": [
    "## Q1. Top 10 selling games of all time (Global and region-wise)."
   ]
  },
  {
   "cell_type": "code",
   "execution_count": 11,
   "metadata": {
    "execution": {
     "iopub.execute_input": "2020-09-19T20:48:29.310013Z",
     "iopub.status.busy": "2020-09-19T20:48:29.309319Z",
     "iopub.status.idle": "2020-09-19T20:48:30.362893Z",
     "shell.execute_reply": "2020-09-19T20:48:30.362231Z"
    },
    "papermill": {
     "duration": 1.087763,
     "end_time": "2020-09-19T20:48:30.363034",
     "exception": false,
     "start_time": "2020-09-19T20:48:29.275271",
     "status": "completed"
    },
    "scrolled": false,
    "tags": []
   },
   "outputs": [
    {
     "data": {
      "image/png": "[encoded data removed]",
      "text/plain": [
       "<Figure size 432x288 with 1 Axes>"
      ]
     },
     "metadata": {
      "needs_background": "light"
     },
     "output_type": "display_data"
    },
    {
     "data": {
      "image/png": "[encoded data removed]",
      "text/plain": [
       "<Figure size 432x288 with 1 Axes>"
      ]
     },
     "metadata": {
      "needs_background": "light"
     },
     "output_type": "display_data"
    },
    {
     "data": {
      "image/png": "[encoded data removed]",
      "text/plain": [
       "<Figure size 432x288 with 1 Axes>"
      ]
     },
     "metadata": {
      "needs_background": "light"
     },
     "output_type": "display_data"
    },
    {
     "data": {
      "image/png": "[encoded data removed]",
      "text/plain": [
       "<Figure size 432x288 with 1 Axes>"
      ]
     },
     "metadata": {
      "needs_background": "light"
     },
     "output_type": "display_data"
    },
    {
     "data": {
      "image/png": "[encoded data removed]",
      "text/plain": [
       "<Figure size 432x288 with 1 Axes>"
      ]
     },
     "metadata": {
      "needs_background": "light"
     },
     "output_type": "display_data"
    }
   ],
   "source": [
    "plt.bar(data=df.head(10), x='name', height='gb', color = 'green')\n",
    "plt.xticks(rotation=90)\n",
    "plt.title('Top 10 selling games of all time')\n",
    "plt.show()\n",
    "\n",
    "top_10_na=df.sort_values('na', ascending=0).head(10)\n",
    "plt.bar(data=top_10_na, x='name', height='na', color='orange')\n",
    "plt.xticks(rotation=90)\n",
    "plt.title('Top 10 selling games of all time in North America')\n",
    "plt.show()\n",
    "\n",
    "top_10_eu=df.sort_values('eu', ascending=0).head(10)\n",
    "plt.bar(data=top_10_eu, x='name', height='eu', color='blue')\n",
    "plt.xticks(rotation=90)\n",
    "plt.title('Top 10 selling games of all time in Europe')\n",
    "plt.show()\n",
    "\n",
    "top_10_jp=df.sort_values('jp', ascending=0).head(10)\n",
    "plt.bar(data=top_10_jp, x='name', height='jp', color='red')\n",
    "plt.xticks(rotation=90)\n",
    "plt.title('Top 10 selling games of all time in Japan')\n",
    "plt.show()\n",
    "\n",
    "top_10_rest=df.sort_values('rest', ascending=0).head(10)\n",
    "plt.bar(data=top_10_rest, x='name', height='rest', color='purple')\n",
    "plt.xticks(rotation=90)\n",
    "plt.title('Top 10 selling games of in the rest of the world')\n",
    "plt.show()"
   ]
  },
  {
   "cell_type": "markdown",
   "metadata": {
    "papermill": {
     "duration": 0.035522,
     "end_time": "2020-09-19T20:48:30.438078",
     "exception": false,
     "start_time": "2020-09-19T20:48:30.402556",
     "status": "completed"
    },
    "tags": []
   },
   "source": [
    "## 2. Top selling platform of all time and region-wise."
   ]
  },
  {
   "cell_type": "code",
   "execution_count": 12,
   "metadata": {
    "execution": {
     "iopub.execute_input": "2020-09-19T20:48:30.519846Z",
     "iopub.status.busy": "2020-09-19T20:48:30.518856Z",
     "iopub.status.idle": "2020-09-19T20:48:30.531660Z",
     "shell.execute_reply": "2020-09-19T20:48:30.532156Z"
    },
    "papermill": {
     "duration": 0.058799,
     "end_time": "2020-09-19T20:48:30.532372",
     "exception": false,
     "start_time": "2020-09-19T20:48:30.473573",
     "status": "completed"
    },
    "tags": []
   },
   "outputs": [
    {
     "data": {
      "text/html": [
       "<div>\n",
       "<style scoped>\n",
       "    .dataframe tbody tr th:only-of-type {\n",
       "        vertical-align: middle;\n",
       "    }\n",
       "\n",
       "    .dataframe tbody tr th {\n",
       "        vertical-align: top;\n",
       "    }\n",
       "\n",
       "    .dataframe thead th {\n",
       "        text-align: right;\n",
       "    }\n",
       "</style>\n",
       "<table border=\"1\" class=\"dataframe\">\n",
       "  <thead>\n",
       "    <tr style=\"text-align: right;\">\n",
       "      <th></th>\n",
       "      <th>gb</th>\n",
       "    </tr>\n",
       "    <tr>\n",
       "      <th>platform</th>\n",
       "      <th></th>\n",
       "    </tr>\n",
       "  </thead>\n",
       "  <tbody>\n",
       "    <tr>\n",
       "      <th>DS</th>\n",
       "      <td>822.49</td>\n",
       "    </tr>\n",
       "    <tr>\n",
       "      <th>GBA</th>\n",
       "      <td>318.50</td>\n",
       "    </tr>\n",
       "    <tr>\n",
       "      <th>GB</th>\n",
       "      <td>255.45</td>\n",
       "    </tr>\n",
       "    <tr>\n",
       "      <th>3DS</th>\n",
       "      <td>247.46</td>\n",
       "    </tr>\n",
       "    <tr>\n",
       "      <th>GC</th>\n",
       "      <td>199.36</td>\n",
       "    </tr>\n",
       "    <tr>\n",
       "      <th>2600</th>\n",
       "      <td>97.08</td>\n",
       "    </tr>\n",
       "    <tr>\n",
       "      <th>GEN</th>\n",
       "      <td>28.36</td>\n",
       "    </tr>\n",
       "    <tr>\n",
       "      <th>DC</th>\n",
       "      <td>15.97</td>\n",
       "    </tr>\n",
       "    <tr>\n",
       "      <th>3DO</th>\n",
       "      <td>0.10</td>\n",
       "    </tr>\n",
       "    <tr>\n",
       "      <th>GG</th>\n",
       "      <td>0.04</td>\n",
       "    </tr>\n",
       "  </tbody>\n",
       "</table>\n",
       "</div>"
      ],
      "text/plain": [
       "              gb\n",
       "platform        \n",
       "DS        822.49\n",
       "GBA       318.50\n",
       "GB        255.45\n",
       "3DS       247.46\n",
       "GC        199.36\n",
       "2600       97.08\n",
       "GEN        28.36\n",
       "DC         15.97\n",
       "3DO         0.10\n",
       "GG          0.04"
      ]
     },
     "execution_count": 12,
     "metadata": {},
     "output_type": "execute_result"
    }
   ],
   "source": [
    "df.groupby('platform').agg({'gb': sum}).head(10).sort_values(by='gb', ascending=False)"
   ]
  },
  {
   "cell_type": "code",
   "execution_count": 13,
   "metadata": {
    "collapsed": true,
    "execution": {
     "iopub.execute_input": "2020-09-19T20:48:30.611231Z",
     "iopub.status.busy": "2020-09-19T20:48:30.610558Z",
     "iopub.status.idle": "2020-09-19T20:48:30.624760Z",
     "shell.execute_reply": "2020-09-19T20:48:30.625357Z"
    },
    "papermill": {
     "duration": 0.056378,
     "end_time": "2020-09-19T20:48:30.625536",
     "exception": false,
     "start_time": "2020-09-19T20:48:30.569158",
     "status": "completed"
    },
    "tags": []
   },
   "outputs": [
    {
     "data": {
      "text/html": [
       "<div>\n",
       "<style scoped>\n",
       "    .dataframe tbody tr th:only-of-type {\n",
       "        vertical-align: middle;\n",
       "    }\n",
       "\n",
       "    .dataframe tbody tr th {\n",
       "        vertical-align: top;\n",
       "    }\n",
       "\n",
       "    .dataframe thead th {\n",
       "        text-align: right;\n",
       "    }\n",
       "</style>\n",
       "<table border=\"1\" class=\"dataframe\">\n",
       "  <thead>\n",
       "    <tr style=\"text-align: right;\">\n",
       "      <th></th>\n",
       "      <th>na</th>\n",
       "    </tr>\n",
       "    <tr>\n",
       "      <th>platform</th>\n",
       "      <th></th>\n",
       "    </tr>\n",
       "  </thead>\n",
       "  <tbody>\n",
       "    <tr>\n",
       "      <th>DS</th>\n",
       "      <td>390.71</td>\n",
       "    </tr>\n",
       "    <tr>\n",
       "      <th>2600</th>\n",
       "      <td>90.60</td>\n",
       "    </tr>\n",
       "    <tr>\n",
       "      <th>3DS</th>\n",
       "      <td>78.87</td>\n",
       "    </tr>\n",
       "    <tr>\n",
       "      <th>DC</th>\n",
       "      <td>5.43</td>\n",
       "    </tr>\n",
       "    <tr>\n",
       "      <th>3DO</th>\n",
       "      <td>0.00</td>\n",
       "    </tr>\n",
       "  </tbody>\n",
       "</table>\n",
       "</div>"
      ],
      "text/plain": [
       "              na\n",
       "platform        \n",
       "DS        390.71\n",
       "2600       90.60\n",
       "3DS        78.87\n",
       "DC          5.43\n",
       "3DO         0.00"
      ]
     },
     "execution_count": 13,
     "metadata": {},
     "output_type": "execute_result"
    }
   ],
   "source": [
    "df.groupby('platform').agg({'na': sum}).head(5).sort_values(by='na', ascending=False)"
   ]
  },
  {
   "cell_type": "code",
   "execution_count": 14,
   "metadata": {
    "collapsed": true,
    "execution": {
     "iopub.execute_input": "2020-09-19T20:48:30.705609Z",
     "iopub.status.busy": "2020-09-19T20:48:30.704815Z",
     "iopub.status.idle": "2020-09-19T20:48:30.720474Z",
     "shell.execute_reply": "2020-09-19T20:48:30.721338Z"
    },
    "papermill": {
     "duration": 0.057538,
     "end_time": "2020-09-19T20:48:30.721534",
     "exception": false,
     "start_time": "2020-09-19T20:48:30.663996",
     "status": "completed"
    },
    "tags": []
   },
   "outputs": [
    {
     "data": {
      "text/html": [
       "<div>\n",
       "<style scoped>\n",
       "    .dataframe tbody tr th:only-of-type {\n",
       "        vertical-align: middle;\n",
       "    }\n",
       "\n",
       "    .dataframe tbody tr th {\n",
       "        vertical-align: top;\n",
       "    }\n",
       "\n",
       "    .dataframe thead th {\n",
       "        text-align: right;\n",
       "    }\n",
       "</style>\n",
       "<table border=\"1\" class=\"dataframe\">\n",
       "  <thead>\n",
       "    <tr style=\"text-align: right;\">\n",
       "      <th></th>\n",
       "      <th>eu</th>\n",
       "    </tr>\n",
       "    <tr>\n",
       "      <th>platform</th>\n",
       "      <th></th>\n",
       "    </tr>\n",
       "  </thead>\n",
       "  <tbody>\n",
       "    <tr>\n",
       "      <th>DS</th>\n",
       "      <td>194.65</td>\n",
       "    </tr>\n",
       "    <tr>\n",
       "      <th>3DS</th>\n",
       "      <td>58.52</td>\n",
       "    </tr>\n",
       "    <tr>\n",
       "      <th>2600</th>\n",
       "      <td>5.47</td>\n",
       "    </tr>\n",
       "    <tr>\n",
       "      <th>DC</th>\n",
       "      <td>1.69</td>\n",
       "    </tr>\n",
       "    <tr>\n",
       "      <th>3DO</th>\n",
       "      <td>0.00</td>\n",
       "    </tr>\n",
       "  </tbody>\n",
       "</table>\n",
       "</div>"
      ],
      "text/plain": [
       "              eu\n",
       "platform        \n",
       "DS        194.65\n",
       "3DS        58.52\n",
       "2600        5.47\n",
       "DC          1.69\n",
       "3DO         0.00"
      ]
     },
     "execution_count": 14,
     "metadata": {},
     "output_type": "execute_result"
    }
   ],
   "source": [
    "df.groupby('platform').agg({'eu': sum}).head(5).sort_values(by='eu', ascending=False)"
   ]
  },
  {
   "cell_type": "code",
   "execution_count": 15,
   "metadata": {
    "collapsed": true,
    "execution": {
     "iopub.execute_input": "2020-09-19T20:48:30.808538Z",
     "iopub.status.busy": "2020-09-19T20:48:30.807443Z",
     "iopub.status.idle": "2020-09-19T20:48:30.821482Z",
     "shell.execute_reply": "2020-09-19T20:48:30.820872Z"
    },
    "papermill": {
     "duration": 0.061586,
     "end_time": "2020-09-19T20:48:30.821618",
     "exception": false,
     "start_time": "2020-09-19T20:48:30.760032",
     "status": "completed"
    },
    "tags": []
   },
   "outputs": [
    {
     "data": {
      "text/html": [
       "<div>\n",
       "<style scoped>\n",
       "    .dataframe tbody tr th:only-of-type {\n",
       "        vertical-align: middle;\n",
       "    }\n",
       "\n",
       "    .dataframe tbody tr th {\n",
       "        vertical-align: top;\n",
       "    }\n",
       "\n",
       "    .dataframe thead th {\n",
       "        text-align: right;\n",
       "    }\n",
       "</style>\n",
       "<table border=\"1\" class=\"dataframe\">\n",
       "  <thead>\n",
       "    <tr style=\"text-align: right;\">\n",
       "      <th></th>\n",
       "      <th>jp</th>\n",
       "    </tr>\n",
       "    <tr>\n",
       "      <th>platform</th>\n",
       "      <th></th>\n",
       "    </tr>\n",
       "  </thead>\n",
       "  <tbody>\n",
       "    <tr>\n",
       "      <th>DS</th>\n",
       "      <td>175.57</td>\n",
       "    </tr>\n",
       "    <tr>\n",
       "      <th>3DS</th>\n",
       "      <td>97.35</td>\n",
       "    </tr>\n",
       "    <tr>\n",
       "      <th>DC</th>\n",
       "      <td>8.56</td>\n",
       "    </tr>\n",
       "    <tr>\n",
       "      <th>3DO</th>\n",
       "      <td>0.10</td>\n",
       "    </tr>\n",
       "    <tr>\n",
       "      <th>2600</th>\n",
       "      <td>0.00</td>\n",
       "    </tr>\n",
       "  </tbody>\n",
       "</table>\n",
       "</div>"
      ],
      "text/plain": [
       "              jp\n",
       "platform        \n",
       "DS        175.57\n",
       "3DS        97.35\n",
       "DC          8.56\n",
       "3DO         0.10\n",
       "2600        0.00"
      ]
     },
     "execution_count": 15,
     "metadata": {},
     "output_type": "execute_result"
    }
   ],
   "source": [
    "df.groupby('platform').agg({'jp': sum}).head(5).sort_values(by='jp', ascending=False)"
   ]
  },
  {
   "cell_type": "code",
   "execution_count": 16,
   "metadata": {
    "collapsed": true,
    "execution": {
     "iopub.execute_input": "2020-09-19T20:48:30.906238Z",
     "iopub.status.busy": "2020-09-19T20:48:30.905112Z",
     "iopub.status.idle": "2020-09-19T20:48:30.921607Z",
     "shell.execute_reply": "2020-09-19T20:48:30.922125Z"
    },
    "papermill": {
     "duration": 0.060225,
     "end_time": "2020-09-19T20:48:30.922338",
     "exception": false,
     "start_time": "2020-09-19T20:48:30.862113",
     "status": "completed"
    },
    "tags": []
   },
   "outputs": [
    {
     "data": {
      "text/html": [
       "<div>\n",
       "<style scoped>\n",
       "    .dataframe tbody tr th:only-of-type {\n",
       "        vertical-align: middle;\n",
       "    }\n",
       "\n",
       "    .dataframe tbody tr th {\n",
       "        vertical-align: top;\n",
       "    }\n",
       "\n",
       "    .dataframe thead th {\n",
       "        text-align: right;\n",
       "    }\n",
       "</style>\n",
       "<table border=\"1\" class=\"dataframe\">\n",
       "  <thead>\n",
       "    <tr style=\"text-align: right;\">\n",
       "      <th></th>\n",
       "      <th>rest</th>\n",
       "    </tr>\n",
       "    <tr>\n",
       "      <th>platform</th>\n",
       "      <th></th>\n",
       "    </tr>\n",
       "  </thead>\n",
       "  <tbody>\n",
       "    <tr>\n",
       "      <th>DS</th>\n",
       "      <td>60.53</td>\n",
       "    </tr>\n",
       "    <tr>\n",
       "      <th>3DS</th>\n",
       "      <td>12.63</td>\n",
       "    </tr>\n",
       "    <tr>\n",
       "      <th>2600</th>\n",
       "      <td>0.91</td>\n",
       "    </tr>\n",
       "    <tr>\n",
       "      <th>DC</th>\n",
       "      <td>0.27</td>\n",
       "    </tr>\n",
       "    <tr>\n",
       "      <th>3DO</th>\n",
       "      <td>0.00</td>\n",
       "    </tr>\n",
       "  </tbody>\n",
       "</table>\n",
       "</div>"
      ],
      "text/plain": [
       "           rest\n",
       "platform       \n",
       "DS        60.53\n",
       "3DS       12.63\n",
       "2600       0.91\n",
       "DC         0.27\n",
       "3DO        0.00"
      ]
     },
     "execution_count": 16,
     "metadata": {},
     "output_type": "execute_result"
    }
   ],
   "source": [
    "df.groupby('platform').agg({'rest': sum}).head(5).sort_values(by='rest', ascending=False)"
   ]
  },
  {
   "cell_type": "markdown",
   "metadata": {
    "papermill": {
     "duration": 0.038603,
     "end_time": "2020-09-19T20:48:31.001148",
     "exception": false,
     "start_time": "2020-09-19T20:48:30.962545",
     "status": "completed"
    },
    "tags": []
   },
   "source": [
    "### 3. What are the top selling genres of all time? Region-wise?"
   ]
  },
  {
   "cell_type": "code",
   "execution_count": 17,
   "metadata": {
    "execution": {
     "iopub.execute_input": "2020-09-19T20:48:31.084865Z",
     "iopub.status.busy": "2020-09-19T20:48:31.083817Z",
     "iopub.status.idle": "2020-09-19T20:48:31.099879Z",
     "shell.execute_reply": "2020-09-19T20:48:31.100374Z"
    },
    "papermill": {
     "duration": 0.060152,
     "end_time": "2020-09-19T20:48:31.100554",
     "exception": false,
     "start_time": "2020-09-19T20:48:31.040402",
     "status": "completed"
    },
    "tags": []
   },
   "outputs": [
    {
     "data": {
      "text/html": [
       "<div>\n",
       "<style scoped>\n",
       "    .dataframe tbody tr th:only-of-type {\n",
       "        vertical-align: middle;\n",
       "    }\n",
       "\n",
       "    .dataframe tbody tr th {\n",
       "        vertical-align: top;\n",
       "    }\n",
       "\n",
       "    .dataframe thead th {\n",
       "        text-align: right;\n",
       "    }\n",
       "</style>\n",
       "<table border=\"1\" class=\"dataframe\">\n",
       "  <thead>\n",
       "    <tr style=\"text-align: right;\">\n",
       "      <th></th>\n",
       "      <th>gb</th>\n",
       "    </tr>\n",
       "    <tr>\n",
       "      <th>genre</th>\n",
       "      <th></th>\n",
       "    </tr>\n",
       "  </thead>\n",
       "  <tbody>\n",
       "    <tr>\n",
       "      <th>Action</th>\n",
       "      <td>1751.17</td>\n",
       "    </tr>\n",
       "    <tr>\n",
       "      <th>Platform</th>\n",
       "      <td>831.37</td>\n",
       "    </tr>\n",
       "    <tr>\n",
       "      <th>Misc</th>\n",
       "      <td>809.96</td>\n",
       "    </tr>\n",
       "    <tr>\n",
       "      <th>Fighting</th>\n",
       "      <td>448.91</td>\n",
       "    </tr>\n",
       "    <tr>\n",
       "      <th>Adventure</th>\n",
       "      <td>239.04</td>\n",
       "    </tr>\n",
       "  </tbody>\n",
       "</table>\n",
       "</div>"
      ],
      "text/plain": [
       "                gb\n",
       "genre             \n",
       "Action     1751.17\n",
       "Platform    831.37\n",
       "Misc        809.96\n",
       "Fighting    448.91\n",
       "Adventure   239.04"
      ]
     },
     "execution_count": 17,
     "metadata": {},
     "output_type": "execute_result"
    }
   ],
   "source": [
    "df.groupby('genre').agg({'gb': sum}).head(5).sort_values(by='gb', ascending=False)"
   ]
  },
  {
   "cell_type": "code",
   "execution_count": 18,
   "metadata": {
    "collapsed": true,
    "execution": {
     "iopub.execute_input": "2020-09-19T20:48:31.185337Z",
     "iopub.status.busy": "2020-09-19T20:48:31.184311Z",
     "iopub.status.idle": "2020-09-19T20:48:31.200269Z",
     "shell.execute_reply": "2020-09-19T20:48:31.200835Z"
    },
    "papermill": {
     "duration": 0.06066,
     "end_time": "2020-09-19T20:48:31.201005",
     "exception": false,
     "start_time": "2020-09-19T20:48:31.140345",
     "status": "completed"
    },
    "tags": []
   },
   "outputs": [
    {
     "data": {
      "text/html": [
       "<div>\n",
       "<style scoped>\n",
       "    .dataframe tbody tr th:only-of-type {\n",
       "        vertical-align: middle;\n",
       "    }\n",
       "\n",
       "    .dataframe tbody tr th {\n",
       "        vertical-align: top;\n",
       "    }\n",
       "\n",
       "    .dataframe thead th {\n",
       "        text-align: right;\n",
       "    }\n",
       "</style>\n",
       "<table border=\"1\" class=\"dataframe\">\n",
       "  <thead>\n",
       "    <tr style=\"text-align: right;\">\n",
       "      <th></th>\n",
       "      <th>na</th>\n",
       "    </tr>\n",
       "    <tr>\n",
       "      <th>genre</th>\n",
       "      <th></th>\n",
       "    </tr>\n",
       "  </thead>\n",
       "  <tbody>\n",
       "    <tr>\n",
       "      <th>Action</th>\n",
       "      <td>877.83</td>\n",
       "    </tr>\n",
       "    <tr>\n",
       "      <th>Platform</th>\n",
       "      <td>447.05</td>\n",
       "    </tr>\n",
       "    <tr>\n",
       "      <th>Misc</th>\n",
       "      <td>410.24</td>\n",
       "    </tr>\n",
       "    <tr>\n",
       "      <th>Fighting</th>\n",
       "      <td>223.59</td>\n",
       "    </tr>\n",
       "    <tr>\n",
       "      <th>Adventure</th>\n",
       "      <td>105.80</td>\n",
       "    </tr>\n",
       "  </tbody>\n",
       "</table>\n",
       "</div>"
      ],
      "text/plain": [
       "               na\n",
       "genre            \n",
       "Action     877.83\n",
       "Platform   447.05\n",
       "Misc       410.24\n",
       "Fighting   223.59\n",
       "Adventure  105.80"
      ]
     },
     "execution_count": 18,
     "metadata": {},
     "output_type": "execute_result"
    }
   ],
   "source": [
    "df.groupby('genre').agg({'na': sum}).head(5).sort_values(by='na', ascending=False)"
   ]
  },
  {
   "cell_type": "code",
   "execution_count": 19,
   "metadata": {
    "collapsed": true,
    "execution": {
     "iopub.execute_input": "2020-09-19T20:48:31.285568Z",
     "iopub.status.busy": "2020-09-19T20:48:31.284543Z",
     "iopub.status.idle": "2020-09-19T20:48:31.301051Z",
     "shell.execute_reply": "2020-09-19T20:48:31.301541Z"
    },
    "papermill": {
     "duration": 0.060467,
     "end_time": "2020-09-19T20:48:31.301717",
     "exception": false,
     "start_time": "2020-09-19T20:48:31.241250",
     "status": "completed"
    },
    "tags": []
   },
   "outputs": [
    {
     "data": {
      "text/html": [
       "<div>\n",
       "<style scoped>\n",
       "    .dataframe tbody tr th:only-of-type {\n",
       "        vertical-align: middle;\n",
       "    }\n",
       "\n",
       "    .dataframe tbody tr th {\n",
       "        vertical-align: top;\n",
       "    }\n",
       "\n",
       "    .dataframe thead th {\n",
       "        text-align: right;\n",
       "    }\n",
       "</style>\n",
       "<table border=\"1\" class=\"dataframe\">\n",
       "  <thead>\n",
       "    <tr style=\"text-align: right;\">\n",
       "      <th></th>\n",
       "      <th>eu</th>\n",
       "    </tr>\n",
       "    <tr>\n",
       "      <th>genre</th>\n",
       "      <th></th>\n",
       "    </tr>\n",
       "  </thead>\n",
       "  <tbody>\n",
       "    <tr>\n",
       "      <th>Action</th>\n",
       "      <td>525.00</td>\n",
       "    </tr>\n",
       "    <tr>\n",
       "      <th>Misc</th>\n",
       "      <td>215.98</td>\n",
       "    </tr>\n",
       "    <tr>\n",
       "      <th>Platform</th>\n",
       "      <td>201.63</td>\n",
       "    </tr>\n",
       "    <tr>\n",
       "      <th>Fighting</th>\n",
       "      <td>101.32</td>\n",
       "    </tr>\n",
       "    <tr>\n",
       "      <th>Adventure</th>\n",
       "      <td>64.13</td>\n",
       "    </tr>\n",
       "  </tbody>\n",
       "</table>\n",
       "</div>"
      ],
      "text/plain": [
       "               eu\n",
       "genre            \n",
       "Action     525.00\n",
       "Misc       215.98\n",
       "Platform   201.63\n",
       "Fighting   101.32\n",
       "Adventure   64.13"
      ]
     },
     "execution_count": 19,
     "metadata": {},
     "output_type": "execute_result"
    }
   ],
   "source": [
    "df.groupby('genre').agg({'eu': sum}).head(5).sort_values(by='eu', ascending=False)"
   ]
  },
  {
   "cell_type": "code",
   "execution_count": 20,
   "metadata": {
    "collapsed": true,
    "execution": {
     "iopub.execute_input": "2020-09-19T20:48:31.390121Z",
     "iopub.status.busy": "2020-09-19T20:48:31.389040Z",
     "iopub.status.idle": "2020-09-19T20:48:31.405098Z",
     "shell.execute_reply": "2020-09-19T20:48:31.405601Z"
    },
    "papermill": {
     "duration": 0.061601,
     "end_time": "2020-09-19T20:48:31.405788",
     "exception": false,
     "start_time": "2020-09-19T20:48:31.344187",
     "status": "completed"
    },
    "tags": []
   },
   "outputs": [
    {
     "data": {
      "text/html": [
       "<div>\n",
       "<style scoped>\n",
       "    .dataframe tbody tr th:only-of-type {\n",
       "        vertical-align: middle;\n",
       "    }\n",
       "\n",
       "    .dataframe tbody tr th {\n",
       "        vertical-align: top;\n",
       "    }\n",
       "\n",
       "    .dataframe thead th {\n",
       "        text-align: right;\n",
       "    }\n",
       "</style>\n",
       "<table border=\"1\" class=\"dataframe\">\n",
       "  <thead>\n",
       "    <tr style=\"text-align: right;\">\n",
       "      <th></th>\n",
       "      <th>jp</th>\n",
       "    </tr>\n",
       "    <tr>\n",
       "      <th>genre</th>\n",
       "      <th></th>\n",
       "    </tr>\n",
       "  </thead>\n",
       "  <tbody>\n",
       "    <tr>\n",
       "      <th>Action</th>\n",
       "      <td>159.94</td>\n",
       "    </tr>\n",
       "    <tr>\n",
       "      <th>Platform</th>\n",
       "      <td>130.77</td>\n",
       "    </tr>\n",
       "    <tr>\n",
       "      <th>Misc</th>\n",
       "      <td>107.76</td>\n",
       "    </tr>\n",
       "    <tr>\n",
       "      <th>Fighting</th>\n",
       "      <td>87.35</td>\n",
       "    </tr>\n",
       "    <tr>\n",
       "      <th>Adventure</th>\n",
       "      <td>52.07</td>\n",
       "    </tr>\n",
       "  </tbody>\n",
       "</table>\n",
       "</div>"
      ],
      "text/plain": [
       "               jp\n",
       "genre            \n",
       "Action     159.94\n",
       "Platform   130.77\n",
       "Misc       107.76\n",
       "Fighting    87.35\n",
       "Adventure   52.07"
      ]
     },
     "execution_count": 20,
     "metadata": {},
     "output_type": "execute_result"
    }
   ],
   "source": [
    "df.groupby('genre').agg({'jp': sum}).head(5).sort_values(by='jp', ascending=False)"
   ]
  },
  {
   "cell_type": "code",
   "execution_count": 21,
   "metadata": {
    "collapsed": true,
    "execution": {
     "iopub.execute_input": "2020-09-19T20:48:31.493163Z",
     "iopub.status.busy": "2020-09-19T20:48:31.492074Z",
     "iopub.status.idle": "2020-09-19T20:48:31.507892Z",
     "shell.execute_reply": "2020-09-19T20:48:31.508395Z"
    },
    "papermill": {
     "duration": 0.061187,
     "end_time": "2020-09-19T20:48:31.508565",
     "exception": false,
     "start_time": "2020-09-19T20:48:31.447378",
     "status": "completed"
    },
    "tags": []
   },
   "outputs": [
    {
     "data": {
      "text/html": [
       "<div>\n",
       "<style scoped>\n",
       "    .dataframe tbody tr th:only-of-type {\n",
       "        vertical-align: middle;\n",
       "    }\n",
       "\n",
       "    .dataframe tbody tr th {\n",
       "        vertical-align: top;\n",
       "    }\n",
       "\n",
       "    .dataframe thead th {\n",
       "        text-align: right;\n",
       "    }\n",
       "</style>\n",
       "<table border=\"1\" class=\"dataframe\">\n",
       "  <thead>\n",
       "    <tr style=\"text-align: right;\">\n",
       "      <th></th>\n",
       "      <th>rest</th>\n",
       "    </tr>\n",
       "    <tr>\n",
       "      <th>genre</th>\n",
       "      <th></th>\n",
       "    </tr>\n",
       "  </thead>\n",
       "  <tbody>\n",
       "    <tr>\n",
       "      <th>Action</th>\n",
       "      <td>187.38</td>\n",
       "    </tr>\n",
       "    <tr>\n",
       "      <th>Misc</th>\n",
       "      <td>75.32</td>\n",
       "    </tr>\n",
       "    <tr>\n",
       "      <th>Platform</th>\n",
       "      <td>51.59</td>\n",
       "    </tr>\n",
       "    <tr>\n",
       "      <th>Fighting</th>\n",
       "      <td>36.68</td>\n",
       "    </tr>\n",
       "    <tr>\n",
       "      <th>Adventure</th>\n",
       "      <td>16.81</td>\n",
       "    </tr>\n",
       "  </tbody>\n",
       "</table>\n",
       "</div>"
      ],
      "text/plain": [
       "             rest\n",
       "genre            \n",
       "Action     187.38\n",
       "Misc        75.32\n",
       "Platform    51.59\n",
       "Fighting    36.68\n",
       "Adventure   16.81"
      ]
     },
     "execution_count": 21,
     "metadata": {},
     "output_type": "execute_result"
    }
   ],
   "source": [
    "df.groupby('genre').agg({'rest': sum}).head(5).sort_values(by='rest', ascending=False)"
   ]
  },
  {
   "cell_type": "markdown",
   "metadata": {
    "papermill": {
     "duration": 0.041312,
     "end_time": "2020-09-19T20:48:31.592197",
     "exception": false,
     "start_time": "2020-09-19T20:48:31.550885",
     "status": "completed"
    },
    "tags": []
   },
   "source": [
    "## 4. What is the top selling game each year?"
   ]
  },
  {
   "cell_type": "code",
   "execution_count": 22,
   "metadata": {
    "execution": {
     "iopub.execute_input": "2020-09-19T20:48:31.679347Z",
     "iopub.status.busy": "2020-09-19T20:48:31.678701Z",
     "iopub.status.idle": "2020-09-19T20:48:31.710830Z",
     "shell.execute_reply": "2020-09-19T20:48:31.711352Z"
    },
    "papermill": {
     "duration": 0.07745,
     "end_time": "2020-09-19T20:48:31.711494",
     "exception": false,
     "start_time": "2020-09-19T20:48:31.634044",
     "status": "completed"
    },
    "scrolled": false,
    "tags": []
   },
   "outputs": [
    {
     "data": {
      "text/html": [
       "<div>\n",
       "<style scoped>\n",
       "    .dataframe tbody tr th:only-of-type {\n",
       "        vertical-align: middle;\n",
       "    }\n",
       "\n",
       "    .dataframe tbody tr th {\n",
       "        vertical-align: top;\n",
       "    }\n",
       "\n",
       "    .dataframe thead th {\n",
       "        text-align: right;\n",
       "    }\n",
       "</style>\n",
       "<table border=\"1\" class=\"dataframe\">\n",
       "  <thead>\n",
       "    <tr style=\"text-align: right;\">\n",
       "      <th></th>\n",
       "      <th>year</th>\n",
       "      <th>name</th>\n",
       "      <th>platform</th>\n",
       "      <th>gb</th>\n",
       "    </tr>\n",
       "  </thead>\n",
       "  <tbody>\n",
       "    <tr>\n",
       "      <th>0</th>\n",
       "      <td>1980</td>\n",
       "      <td>Asteroids</td>\n",
       "      <td>2600</td>\n",
       "      <td>4.31</td>\n",
       "    </tr>\n",
       "    <tr>\n",
       "      <th>1</th>\n",
       "      <td>1981</td>\n",
       "      <td>Pitfall!</td>\n",
       "      <td>2600</td>\n",
       "      <td>4.50</td>\n",
       "    </tr>\n",
       "    <tr>\n",
       "      <th>2</th>\n",
       "      <td>1982</td>\n",
       "      <td>Pac-Man</td>\n",
       "      <td>2600</td>\n",
       "      <td>7.81</td>\n",
       "    </tr>\n",
       "    <tr>\n",
       "      <th>3</th>\n",
       "      <td>1983</td>\n",
       "      <td>Baseball</td>\n",
       "      <td>NES</td>\n",
       "      <td>3.20</td>\n",
       "    </tr>\n",
       "    <tr>\n",
       "      <th>4</th>\n",
       "      <td>1984</td>\n",
       "      <td>Duck Hunt</td>\n",
       "      <td>NES</td>\n",
       "      <td>28.31</td>\n",
       "    </tr>\n",
       "    <tr>\n",
       "      <th>5</th>\n",
       "      <td>1985</td>\n",
       "      <td>Super Mario Bros.</td>\n",
       "      <td>NES</td>\n",
       "      <td>40.24</td>\n",
       "    </tr>\n",
       "    <tr>\n",
       "      <th>6</th>\n",
       "      <td>1986</td>\n",
       "      <td>The Legend of Zelda</td>\n",
       "      <td>NES</td>\n",
       "      <td>6.51</td>\n",
       "    </tr>\n",
       "    <tr>\n",
       "      <th>7</th>\n",
       "      <td>1987</td>\n",
       "      <td>Zelda II: The Adventure of Link</td>\n",
       "      <td>NES</td>\n",
       "      <td>4.38</td>\n",
       "    </tr>\n",
       "    <tr>\n",
       "      <th>8</th>\n",
       "      <td>1988</td>\n",
       "      <td>Super Mario Bros. 3</td>\n",
       "      <td>NES</td>\n",
       "      <td>17.28</td>\n",
       "    </tr>\n",
       "    <tr>\n",
       "      <th>9</th>\n",
       "      <td>1989</td>\n",
       "      <td>Tetris</td>\n",
       "      <td>GB</td>\n",
       "      <td>30.26</td>\n",
       "    </tr>\n",
       "    <tr>\n",
       "      <th>10</th>\n",
       "      <td>1990</td>\n",
       "      <td>Super Mario World</td>\n",
       "      <td>SNES</td>\n",
       "      <td>20.61</td>\n",
       "    </tr>\n",
       "    <tr>\n",
       "      <th>11</th>\n",
       "      <td>1991</td>\n",
       "      <td>The Legend of Zelda: A Link to the Past</td>\n",
       "      <td>SNES</td>\n",
       "      <td>4.61</td>\n",
       "    </tr>\n",
       "    <tr>\n",
       "      <th>12</th>\n",
       "      <td>1992</td>\n",
       "      <td>Super Mario Land 2: 6 Golden Coins</td>\n",
       "      <td>GB</td>\n",
       "      <td>11.18</td>\n",
       "    </tr>\n",
       "    <tr>\n",
       "      <th>13</th>\n",
       "      <td>1993</td>\n",
       "      <td>Super Mario All-Stars</td>\n",
       "      <td>SNES</td>\n",
       "      <td>10.55</td>\n",
       "    </tr>\n",
       "    <tr>\n",
       "      <th>14</th>\n",
       "      <td>1994</td>\n",
       "      <td>Donkey Kong Country</td>\n",
       "      <td>SNES</td>\n",
       "      <td>9.30</td>\n",
       "    </tr>\n",
       "    <tr>\n",
       "      <th>15</th>\n",
       "      <td>1995</td>\n",
       "      <td>Donkey Kong Country 2: Diddy's Kong Quest</td>\n",
       "      <td>SNES</td>\n",
       "      <td>5.15</td>\n",
       "    </tr>\n",
       "    <tr>\n",
       "      <th>16</th>\n",
       "      <td>1996</td>\n",
       "      <td>Pokemon Red/Pokemon Blue</td>\n",
       "      <td>GB</td>\n",
       "      <td>31.37</td>\n",
       "    </tr>\n",
       "    <tr>\n",
       "      <th>17</th>\n",
       "      <td>1997</td>\n",
       "      <td>Gran Turismo</td>\n",
       "      <td>PS</td>\n",
       "      <td>10.95</td>\n",
       "    </tr>\n",
       "    <tr>\n",
       "      <th>18</th>\n",
       "      <td>1998</td>\n",
       "      <td>Pokémon Yellow: Special Pikachu Edition</td>\n",
       "      <td>GB</td>\n",
       "      <td>14.64</td>\n",
       "    </tr>\n",
       "    <tr>\n",
       "      <th>19</th>\n",
       "      <td>1999</td>\n",
       "      <td>Pokemon Gold/Pokemon Silver</td>\n",
       "      <td>GB</td>\n",
       "      <td>23.10</td>\n",
       "    </tr>\n",
       "    <tr>\n",
       "      <th>20</th>\n",
       "      <td>2000</td>\n",
       "      <td>Pokémon Crystal Version</td>\n",
       "      <td>GB</td>\n",
       "      <td>6.39</td>\n",
       "    </tr>\n",
       "    <tr>\n",
       "      <th>21</th>\n",
       "      <td>2001</td>\n",
       "      <td>Gran Turismo 3: A-Spec</td>\n",
       "      <td>PS2</td>\n",
       "      <td>14.98</td>\n",
       "    </tr>\n",
       "    <tr>\n",
       "      <th>22</th>\n",
       "      <td>2002</td>\n",
       "      <td>Grand Theft Auto: Vice City</td>\n",
       "      <td>PS2</td>\n",
       "      <td>16.15</td>\n",
       "    </tr>\n",
       "    <tr>\n",
       "      <th>23</th>\n",
       "      <td>2003</td>\n",
       "      <td>Need for Speed Underground</td>\n",
       "      <td>PS2</td>\n",
       "      <td>7.20</td>\n",
       "    </tr>\n",
       "    <tr>\n",
       "      <th>24</th>\n",
       "      <td>2004</td>\n",
       "      <td>Grand Theft Auto: San Andreas</td>\n",
       "      <td>PS2</td>\n",
       "      <td>20.81</td>\n",
       "    </tr>\n",
       "    <tr>\n",
       "      <th>25</th>\n",
       "      <td>2005</td>\n",
       "      <td>Nintendogs</td>\n",
       "      <td>DS</td>\n",
       "      <td>24.76</td>\n",
       "    </tr>\n",
       "    <tr>\n",
       "      <th>26</th>\n",
       "      <td>2006</td>\n",
       "      <td>Wii Sports</td>\n",
       "      <td>Wii</td>\n",
       "      <td>82.74</td>\n",
       "    </tr>\n",
       "    <tr>\n",
       "      <th>27</th>\n",
       "      <td>2007</td>\n",
       "      <td>Wii Fit</td>\n",
       "      <td>Wii</td>\n",
       "      <td>22.72</td>\n",
       "    </tr>\n",
       "    <tr>\n",
       "      <th>28</th>\n",
       "      <td>2008</td>\n",
       "      <td>Mario Kart Wii</td>\n",
       "      <td>Wii</td>\n",
       "      <td>35.82</td>\n",
       "    </tr>\n",
       "    <tr>\n",
       "      <th>29</th>\n",
       "      <td>2009</td>\n",
       "      <td>Wii Sports Resort</td>\n",
       "      <td>Wii</td>\n",
       "      <td>33.00</td>\n",
       "    </tr>\n",
       "    <tr>\n",
       "      <th>30</th>\n",
       "      <td>2010</td>\n",
       "      <td>Kinect Adventures!</td>\n",
       "      <td>X360</td>\n",
       "      <td>21.82</td>\n",
       "    </tr>\n",
       "    <tr>\n",
       "      <th>31</th>\n",
       "      <td>2011</td>\n",
       "      <td>Call of Duty: Modern Warfare 3</td>\n",
       "      <td>X360</td>\n",
       "      <td>14.76</td>\n",
       "    </tr>\n",
       "    <tr>\n",
       "      <th>32</th>\n",
       "      <td>2012</td>\n",
       "      <td>Call of Duty: Black Ops II</td>\n",
       "      <td>PS3</td>\n",
       "      <td>14.03</td>\n",
       "    </tr>\n",
       "    <tr>\n",
       "      <th>33</th>\n",
       "      <td>2013</td>\n",
       "      <td>Grand Theft Auto V</td>\n",
       "      <td>PS3</td>\n",
       "      <td>21.40</td>\n",
       "    </tr>\n",
       "    <tr>\n",
       "      <th>34</th>\n",
       "      <td>2014</td>\n",
       "      <td>Grand Theft Auto V</td>\n",
       "      <td>PS4</td>\n",
       "      <td>11.98</td>\n",
       "    </tr>\n",
       "    <tr>\n",
       "      <th>35</th>\n",
       "      <td>2015</td>\n",
       "      <td>Call of Duty: Black Ops 3</td>\n",
       "      <td>PS4</td>\n",
       "      <td>14.24</td>\n",
       "    </tr>\n",
       "    <tr>\n",
       "      <th>36</th>\n",
       "      <td>2016</td>\n",
       "      <td>FIFA 17</td>\n",
       "      <td>PS4</td>\n",
       "      <td>4.77</td>\n",
       "    </tr>\n",
       "  </tbody>\n",
       "</table>\n",
       "</div>"
      ],
      "text/plain": [
       "    year                                       name platform     gb\n",
       "0   1980                                  Asteroids     2600   4.31\n",
       "1   1981                                   Pitfall!     2600   4.50\n",
       "2   1982                                    Pac-Man     2600   7.81\n",
       "3   1983                                   Baseball      NES   3.20\n",
       "4   1984                                  Duck Hunt      NES  28.31\n",
       "5   1985                          Super Mario Bros.      NES  40.24\n",
       "6   1986                        The Legend of Zelda      NES   6.51\n",
       "7   1987            Zelda II: The Adventure of Link      NES   4.38\n",
       "8   1988                        Super Mario Bros. 3      NES  17.28\n",
       "9   1989                                     Tetris       GB  30.26\n",
       "10  1990                          Super Mario World     SNES  20.61\n",
       "11  1991    The Legend of Zelda: A Link to the Past     SNES   4.61\n",
       "12  1992         Super Mario Land 2: 6 Golden Coins       GB  11.18\n",
       "13  1993                      Super Mario All-Stars     SNES  10.55\n",
       "14  1994                        Donkey Kong Country     SNES   9.30\n",
       "15  1995  Donkey Kong Country 2: Diddy's Kong Quest     SNES   5.15\n",
       "16  1996                   Pokemon Red/Pokemon Blue       GB  31.37\n",
       "17  1997                               Gran Turismo       PS  10.95\n",
       "18  1998    Pokémon Yellow: Special Pikachu Edition       GB  14.64\n",
       "19  1999                Pokemon Gold/Pokemon Silver       GB  23.10\n",
       "20  2000                    Pokémon Crystal Version       GB   6.39\n",
       "21  2001                     Gran Turismo 3: A-Spec      PS2  14.98\n",
       "22  2002                Grand Theft Auto: Vice City      PS2  16.15\n",
       "23  2003                 Need for Speed Underground      PS2   7.20\n",
       "24  2004              Grand Theft Auto: San Andreas      PS2  20.81\n",
       "25  2005                                 Nintendogs       DS  24.76\n",
       "26  2006                                 Wii Sports      Wii  82.74\n",
       "27  2007                                    Wii Fit      Wii  22.72\n",
       "28  2008                             Mario Kart Wii      Wii  35.82\n",
       "29  2009                          Wii Sports Resort      Wii  33.00\n",
       "30  2010                         Kinect Adventures!     X360  21.82\n",
       "31  2011             Call of Duty: Modern Warfare 3     X360  14.76\n",
       "32  2012                 Call of Duty: Black Ops II      PS3  14.03\n",
       "33  2013                         Grand Theft Auto V      PS3  21.40\n",
       "34  2014                         Grand Theft Auto V      PS4  11.98\n",
       "35  2015                  Call of Duty: Black Ops 3      PS4  14.24\n",
       "36  2016                                    FIFA 17      PS4   4.77"
      ]
     },
     "execution_count": 22,
     "metadata": {},
     "output_type": "execute_result"
    }
   ],
   "source": [
    "yearlytop_sort = df[['year', 'name', 'platform','gb']].sort_values(by=['year', 'gb'], ascending=[True, False])\n",
    "yearlytop = yearlytop_sort.groupby('year')\n",
    "yearlytop = yearlytop.head(1).reset_index(drop=1)\n",
    "yearlytop\n",
    "\n",
    "#How do I remove the index ranks? Anyone?"
   ]
  },
  {
   "cell_type": "markdown",
   "metadata": {
    "papermill": {
     "duration": 0.042296,
     "end_time": "2020-09-19T20:48:31.797374",
     "exception": false,
     "start_time": "2020-09-19T20:48:31.755078",
     "status": "completed"
    },
    "tags": []
   },
   "source": [
    "## 5. What is the top selling platform each year?"
   ]
  },
  {
   "cell_type": "code",
   "execution_count": 23,
   "metadata": {
    "execution": {
     "iopub.execute_input": "2020-09-19T20:48:31.889469Z",
     "iopub.status.busy": "2020-09-19T20:48:31.888811Z",
     "iopub.status.idle": "2020-09-19T20:48:31.965464Z",
     "shell.execute_reply": "2020-09-19T20:48:31.964743Z"
    },
    "papermill": {
     "duration": 0.125382,
     "end_time": "2020-09-19T20:48:31.965601",
     "exception": false,
     "start_time": "2020-09-19T20:48:31.840219",
     "status": "completed"
    },
    "scrolled": true,
    "tags": []
   },
   "outputs": [
    {
     "data": {
      "text/plain": [
       "year  platform\n",
       "1980  2600         11.38\n",
       "1981  2600         35.77\n",
       "1982  2600         28.86\n",
       "1983  NES          10.96\n",
       "1984  NES          50.09\n",
       "1985  NES          53.44\n",
       "1986  NES          36.41\n",
       "1987  NES          19.76\n",
       "1988  NES          45.01\n",
       "1989  GB           64.98\n",
       "1990  SNES         26.16\n",
       "1991  SNES         16.21\n",
       "1992  SNES         32.98\n",
       "1993  SNES         40.01\n",
       "1994  SNES         35.08\n",
       "1995  PS           35.92\n",
       "1996  PS           94.68\n",
       "1997  PS          136.08\n",
       "1998  PS          169.58\n",
       "1999  PS          144.57\n",
       "2000  PS           96.28\n",
       "2001  PS2         166.43\n",
       "2002  PS2         205.40\n",
       "2003  PS2         184.29\n",
       "2004  PS2         211.78\n",
       "2005  PS2         160.65\n",
       "2006  Wii         137.91\n",
       "2007  Wii         154.97\n",
       "2008  Wii         174.16\n",
       "2009  Wii         227.34\n",
       "2010  X360        171.05\n",
       "2011  PS3         159.37\n",
       "2012  PS3         109.49\n",
       "2013  PS3         117.39\n",
       "2014  PS4          98.76\n",
       "2015  PS4         115.30\n",
       "2016  PS4          39.25\n",
       "Name: gb, dtype: float64"
      ]
     },
     "execution_count": 23,
     "metadata": {},
     "output_type": "execute_result"
    }
   ],
   "source": [
    "platform_agg = df.groupby(['year', 'platform']).agg({'gb' : sum})\n",
    "top_platform = platform_agg['gb'].groupby(level=0, group_keys=False)\n",
    "top_platform_final = top_platform.apply(lambda x: x.sort_values(ascending=False).head(1))\n",
    "# top_platform_final\n",
    "top_platform.nlargest(1)"
   ]
  },
  {
   "cell_type": "markdown",
   "metadata": {
    "papermill": {
     "duration": 0.042725,
     "end_time": "2020-09-19T20:48:32.051831",
     "exception": false,
     "start_time": "2020-09-19T20:48:32.009106",
     "status": "completed"
    },
    "tags": []
   },
   "source": [
    "## 6. What is the top selling genre each year?"
   ]
  },
  {
   "cell_type": "code",
   "execution_count": 24,
   "metadata": {
    "execution": {
     "iopub.execute_input": "2020-09-19T20:48:32.146882Z",
     "iopub.status.busy": "2020-09-19T20:48:32.146157Z",
     "iopub.status.idle": "2020-09-19T20:48:32.185389Z",
     "shell.execute_reply": "2020-09-19T20:48:32.184783Z"
    },
    "papermill": {
     "duration": 0.090616,
     "end_time": "2020-09-19T20:48:32.185508",
     "exception": false,
     "start_time": "2020-09-19T20:48:32.094892",
     "status": "completed"
    },
    "tags": []
   },
   "outputs": [
    {
     "data": {
      "text/plain": [
       "year  genre       \n",
       "1980  Shooter           7.07\n",
       "1981  Action           14.84\n",
       "1982  Puzzle           10.03\n",
       "1983  Platform          6.93\n",
       "1984  Shooter          31.10\n",
       "1985  Platform         43.17\n",
       "1986  Action           13.74\n",
       "1987  Fighting          5.42\n",
       "1988  Platform         27.73\n",
       "1989  Puzzle           37.75\n",
       "1990  Platform         22.97\n",
       "1991  Platform          7.64\n",
       "1992  Fighting         15.25\n",
       "1993  Platform         18.67\n",
       "1994  Platform         28.74\n",
       "1995  Platform         16.69\n",
       "1996  Role-Playing     43.96\n",
       "1997  Racing           31.91\n",
       "1998  Sports           41.79\n",
       "1999  Role-Playing     49.09\n",
       "2000  Sports           41.19\n",
       "2001  Action           59.39\n",
       "2002  Action           86.77\n",
       "2003  Action           67.93\n",
       "2004  Action           76.26\n",
       "2005  Action           85.69\n",
       "2006  Sports          136.16\n",
       "2007  Action          106.50\n",
       "2008  Action          136.39\n",
       "2009  Action          167.66\n",
       "2010  Action          117.64\n",
       "2011  Action          118.96\n",
       "2012  Action          122.04\n",
       "2013  Action          125.22\n",
       "2014  Action           99.02\n",
       "2015  Action           70.70\n",
       "2016  Action           19.91\n",
       "Name: gb, dtype: float64"
      ]
     },
     "execution_count": 24,
     "metadata": {},
     "output_type": "execute_result"
    }
   ],
   "source": [
    "genre_agg = df.groupby(['year', 'genre']).agg({'gb' : sum})\n",
    "top_genre = genre_agg['gb'].groupby(level=0, group_keys=False)\n",
    "# top_genre_final = top_genre.apply(lambda x: x.sort_values(ascending=False).head(1))\n",
    "top_genre.nlargest(1)"
   ]
  },
  {
   "cell_type": "markdown",
   "metadata": {
    "papermill": {
     "duration": 0.04376,
     "end_time": "2020-09-19T20:48:32.274447",
     "exception": false,
     "start_time": "2020-09-19T20:48:32.230687",
     "status": "completed"
    },
    "tags": []
   },
   "source": [
    "## 7. Sales of all genres till date.\n"
   ]
  },
  {
   "cell_type": "code",
   "execution_count": 25,
   "metadata": {
    "execution": {
     "iopub.execute_input": "2020-09-19T20:48:32.368260Z",
     "iopub.status.busy": "2020-09-19T20:48:32.367560Z",
     "iopub.status.idle": "2020-09-19T20:48:32.494034Z",
     "shell.execute_reply": "2020-09-19T20:48:32.494598Z"
    },
    "papermill": {
     "duration": 0.175634,
     "end_time": "2020-09-19T20:48:32.494776",
     "exception": false,
     "start_time": "2020-09-19T20:48:32.319142",
     "status": "completed"
    },
    "tags": []
   },
   "outputs": [
    {
     "data": {
      "image/png": "[encoded data removed]",
      "text/plain": [
       "<Figure size 720x504 with 1 Axes>"
      ]
     },
     "metadata": {},
     "output_type": "display_data"
    }
   ],
   "source": [
    "total_genre_sales = df.groupby('genre')['gb'].sum()\n",
    "genre_labels = ['Action', 'Adventure', 'Fighting', 'Misc', 'Platform', 'Puzzle', 'Racing', 'Role-Playing', 'Shooter', 'Simulation', 'Sports', 'Strategy']\n",
    "fig = plt.figure(figsize =(10, 7)) \n",
    "plt.pie(total_genre_sales, labels=genre_labels, shadow=True, autopct='%1.1f%%')\n",
    "plt.show()"
   ]
  },
  {
   "cell_type": "markdown",
   "metadata": {
    "papermill": {
     "duration": 0.046109,
     "end_time": "2020-09-19T20:48:32.587974",
     "exception": false,
     "start_time": "2020-09-19T20:48:32.541865",
     "status": "completed"
    },
    "tags": []
   },
   "source": [
    "##### Action and Sports genre leading the sales."
   ]
  },
  {
   "cell_type": "code",
   "execution_count": 26,
   "metadata": {
    "collapsed": true,
    "execution": {
     "iopub.execute_input": "2020-09-19T20:48:32.684571Z",
     "iopub.status.busy": "2020-09-19T20:48:32.683878Z",
     "iopub.status.idle": "2020-09-19T20:48:32.690614Z",
     "shell.execute_reply": "2020-09-19T20:48:32.691166Z"
    },
    "papermill": {
     "duration": 0.056645,
     "end_time": "2020-09-19T20:48:32.691363",
     "exception": false,
     "start_time": "2020-09-19T20:48:32.634718",
     "status": "completed"
    },
    "tags": []
   },
   "outputs": [
    {
     "data": {
      "text/plain": [
       "genre\n",
       "Action          1751.17\n",
       "Adventure        239.04\n",
       "Fighting         448.91\n",
       "Misc             809.96\n",
       "Platform         831.37\n",
       "Puzzle           244.95\n",
       "Racing           732.04\n",
       "Role-Playing     927.33\n",
       "Shooter         1037.37\n",
       "Simulation       392.20\n",
       "Sports          1330.93\n",
       "Strategy         175.12\n",
       "Name: gb, dtype: float64"
      ]
     },
     "execution_count": 26,
     "metadata": {},
     "output_type": "execute_result"
    }
   ],
   "source": [
    "total_genre_sales\n",
    "#Tabular repreentation of the output"
   ]
  },
  {
   "cell_type": "markdown",
   "metadata": {
    "papermill": {
     "duration": 0.046764,
     "end_time": "2020-09-19T20:48:32.785330",
     "exception": false,
     "start_time": "2020-09-19T20:48:32.738566",
     "status": "completed"
    },
    "tags": []
   },
   "source": [
    "## 8. Yearly total sales."
   ]
  },
  {
   "cell_type": "code",
   "execution_count": 27,
   "metadata": {
    "execution": {
     "iopub.execute_input": "2020-09-19T20:48:32.889148Z",
     "iopub.status.busy": "2020-09-19T20:48:32.887644Z",
     "iopub.status.idle": "2020-09-19T20:48:33.124449Z",
     "shell.execute_reply": "2020-09-19T20:48:33.123805Z"
    },
    "papermill": {
     "duration": 0.293656,
     "end_time": "2020-09-19T20:48:33.124582",
     "exception": false,
     "start_time": "2020-09-19T20:48:32.830926",
     "status": "completed"
    },
    "tags": []
   },
   "outputs": [
    {
     "data": {
      "image/png": "[encoded data removed]",
      "text/plain": [
       "<Figure size 648x432 with 1 Axes>"
      ]
     },
     "metadata": {
      "needs_background": "light"
     },
     "output_type": "display_data"
    }
   ],
   "source": [
    "yearly_sales = df.groupby('year').agg({'gb':sum})\n",
    "yearly_sales = yearly_sales.sort_values(by='year', ascending=1).reset_index()\n",
    "\n",
    "fig = plt.figure(figsize =(9, 6)) \n",
    "plt.bar(data=yearly_sales, x='year', height='gb')\n",
    "plt.xticks(rotation=90)\n",
    "plt.title('Yearly sales since 1980')\n",
    "plt.show()"
   ]
  },
  {
   "cell_type": "markdown",
   "metadata": {
    "papermill": {
     "duration": 0.047386,
     "end_time": "2020-09-19T20:48:33.220023",
     "exception": false,
     "start_time": "2020-09-19T20:48:33.172637",
     "status": "completed"
    },
    "tags": []
   },
   "source": [
    "##### 2008 and 2009 witnessed the highest game sales."
   ]
  },
  {
   "cell_type": "markdown",
   "metadata": {
    "papermill": {
     "duration": 0.047765,
     "end_time": "2020-09-19T20:48:33.315846",
     "exception": false,
     "start_time": "2020-09-19T20:48:33.268081",
     "status": "completed"
    },
    "tags": []
   },
   "source": [
    "\n",
    "## 9. Highest selling publisher of all time"
   ]
  },
  {
   "cell_type": "code",
   "execution_count": 28,
   "metadata": {
    "execution": {
     "iopub.execute_input": "2020-09-19T20:48:33.422739Z",
     "iopub.status.busy": "2020-09-19T20:48:33.421928Z",
     "iopub.status.idle": "2020-09-19T20:48:33.600220Z",
     "shell.execute_reply": "2020-09-19T20:48:33.599439Z"
    },
    "papermill": {
     "duration": 0.236039,
     "end_time": "2020-09-19T20:48:33.600388",
     "exception": false,
     "start_time": "2020-09-19T20:48:33.364349",
     "status": "completed"
    },
    "tags": []
   },
   "outputs": [
    {
     "data": {
      "image/png": "[encoded data removed]",
      "text/plain": [
       "<Figure size 648x576 with 1 Axes>"
      ]
     },
     "metadata": {
      "needs_background": "light"
     },
     "output_type": "display_data"
    }
   ],
   "source": [
    "top_publisher = df[['publisher', 'gb']]\n",
    "top_publisher = top_publisher.groupby('publisher')['gb'].sum()\n",
    "fig = plt.figure(figsize =(9, 8)) \n",
    "top_publisher.nlargest(5).plot.bar(x='publisher', y='gb')\n",
    "plt.title('Count of games sold annually')\n",
    "plt.show()"
   ]
  },
  {
   "cell_type": "markdown",
   "metadata": {
    "papermill": {
     "duration": 0.047571,
     "end_time": "2020-09-19T20:48:33.696727",
     "exception": false,
     "start_time": "2020-09-19T20:48:33.649156",
     "status": "completed"
    },
    "tags": []
   },
   "source": [
    "##### Nintendo leading the all time sales followed by EA and Activition."
   ]
  },
  {
   "cell_type": "markdown",
   "metadata": {
    "papermill": {
     "duration": 0.048286,
     "end_time": "2020-09-19T20:48:33.793442",
     "exception": false,
     "start_time": "2020-09-19T20:48:33.745156",
     "status": "completed"
    },
    "tags": []
   },
   "source": [
    "## 10. Number of games released."
   ]
  },
  {
   "cell_type": "code",
   "execution_count": 29,
   "metadata": {
    "execution": {
     "iopub.execute_input": "2020-09-19T20:48:33.897116Z",
     "iopub.status.busy": "2020-09-19T20:48:33.896414Z",
     "iopub.status.idle": "2020-09-19T20:48:33.903945Z",
     "shell.execute_reply": "2020-09-19T20:48:33.904493Z"
    },
    "papermill": {
     "duration": 0.062512,
     "end_time": "2020-09-19T20:48:33.904639",
     "exception": false,
     "start_time": "2020-09-19T20:48:33.842127",
     "status": "completed"
    },
    "tags": []
   },
   "outputs": [],
   "source": [
    "yearly_game = df.groupby('year')['name'].count().reset_index()"
   ]
  },
  {
   "cell_type": "code",
   "execution_count": 30,
   "metadata": {
    "execution": {
     "iopub.execute_input": "2020-09-19T20:48:34.026005Z",
     "iopub.status.busy": "2020-09-19T20:48:34.023890Z",
     "iopub.status.idle": "2020-09-19T20:48:34.268365Z",
     "shell.execute_reply": "2020-09-19T20:48:34.268862Z"
    },
    "papermill": {
     "duration": 0.309942,
     "end_time": "2020-09-19T20:48:34.269020",
     "exception": false,
     "start_time": "2020-09-19T20:48:33.959078",
     "status": "completed"
    },
    "scrolled": true,
    "tags": []
   },
   "outputs": [
    {
     "data": {
      "image/png": "[encoded data removed]",
      "text/plain": [
       "<Figure size 648x576 with 1 Axes>"
      ]
     },
     "metadata": {
      "needs_background": "light"
     },
     "output_type": "display_data"
    }
   ],
   "source": [
    "fig = plt.figure(figsize =(9, 8)) \n",
    "plt.bar(yearly_game['year'], yearly_game['name'])\n",
    "plt.xticks(rotation=90)\n",
    "plt.title('Count of games sold annually')\n",
    "plt.show()"
   ]
  },
  {
   "cell_type": "markdown",
   "metadata": {
    "papermill": {
     "duration": 0.048802,
     "end_time": "2020-09-19T20:48:34.366761",
     "exception": false,
     "start_time": "2020-09-19T20:48:34.317959",
     "status": "completed"
    },
    "tags": []
   },
   "source": [
    "##### Highest number of games were released in 2007 and 2008 with over 1400+ games released in each of them."
   ]
  }
 ],
 "metadata": {
  "kernelspec": {
   "display_name": "Python 3",
   "language": "python",
   "name": "python3"
  },
  "language_info": {
   "codemirror_mode": {
    "name": "ipython",
    "version": 3
   },
   "file_extension": ".py",
   "mimetype": "text/x-python",
   "name": "python",
   "nbconvert_exporter": "python",
   "pygments_lexer": "ipython3",
   "version": "3.7.6"
  },
  "papermill": {
   "duration": 12.473407,
   "end_time": "2020-09-19T20:48:34.525072",
   "environment_variables": {},
   "exception": null,
   "input_path": "__notebook__.ipynb",
   "output_path": "__notebook__.ipynb",
   "parameters": {},
   "start_time": "2020-09-19T20:48:22.051665",
   "version": "2.1.0"
  }
 },
 "nbformat": 4,
 "nbformat_minor": 4
}
