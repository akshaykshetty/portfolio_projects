{
 "cells": [
  {
   "cell_type": "markdown",
   "execution_count": null,
   "metadata": {
    "papermill": {
     "duration": 0.0065,
     "end_time": "2020-08-20T10:12:38.114234",
     "exception": false,
     "start_time": "2020-08-20T10:12:38.107734",
     "status": "completed"
    },
    "tags": []
   },
   "source": [
    "# An analysis of the sales data of electronic products in USA."
   ]
  },
  {
   "cell_type": "markdown",
   "execution_count": null,
   "metadata": {
    "papermill": {
     "duration": 0.004301,
     "end_time": "2020-08-20T10:12:38.123463",
     "exception": false,
     "start_time": "2020-08-20T10:12:38.119162",
     "status": "completed"
    },
    "tags": []
   },
   "source": [
    "Importing the required libraries and the database for our analysis."
   ]
  },
  {
   "cell_type": "code",
   "execution_count": 1,
   "metadata": {
    "_cell_guid": "b1076dfc-b9ad-4769-8c92-a6c4dae69d19",
    "_uuid": "8f2839f25d086af736a60e9eeb907d3b93b6e0e5",
    "execution": {
     "iopub.execute_input": "2020-08-20T10:12:38.139546Z",
     "iopub.status.busy": "2020-08-20T10:12:38.138853Z",
     "iopub.status.idle": "2020-08-20T10:12:38.152509Z",
     "shell.execute_reply": "2020-08-20T10:12:38.151606Z"
    },
    "papermill": {
     "duration": 0.024796,
     "end_time": "2020-08-20T10:12:38.152683",
     "exception": false,
     "start_time": "2020-08-20T10:12:38.127887",
     "status": "completed"
    },
    "tags": []
   },
   "outputs": [
    {
     "name": "stdout",
     "output_type": "stream",
     "text": [
      "/kaggle/input/sales-data-for-eda/Sales_Data/Sales_December_2019.csv\n",
      "/kaggle/input/sales-data-for-eda/Sales_Data/Sales_November_2019.csv\n",
      "/kaggle/input/sales-data-for-eda/Sales_Data/Sales_July_2019.csv\n",
      "/kaggle/input/sales-data-for-eda/Sales_Data/Sales_October_2019.csv\n",
      "/kaggle/input/sales-data-for-eda/Sales_Data/Sales_March_2019.csv\n",
      "/kaggle/input/sales-data-for-eda/Sales_Data/Sales_February_2019.csv\n",
      "/kaggle/input/sales-data-for-eda/Sales_Data/Sales_May_2019.csv\n",
      "/kaggle/input/sales-data-for-eda/Sales_Data/Sales_April_2019.csv\n",
      "/kaggle/input/sales-data-for-eda/Sales_Data/Sales_September_2019.csv\n",
      "/kaggle/input/sales-data-for-eda/Sales_Data/Sales_June_2019.csv\n",
      "/kaggle/input/sales-data-for-eda/Sales_Data/Sales_January_2019.csv\n",
      "/kaggle/input/sales-data-for-eda/Sales_Data/Sales_August_2019.csv\n"
     ]
    }
   ],
   "source": [
    "# This Python 3 environment comes with many helpful analytics libraries installed\n",
    "# It is defined by the kaggle/python Docker image: https://github.com/kaggle/docker-python\n",
    "# For example, here's several helpful packages to load\n",
    "\n",
    "import numpy as np # linear algebra\n",
    "import pandas as pd # data processing, CSV file I/O (e.g. pd.read_csv)\n",
    "import os\n",
    "from itertools import combinations\n",
    "from collections import Counter\n",
    "\n",
    "# Input data files are available in the read-only \"../input/\" directory\n",
    "# For example, running this (by clicking run or pressing Shift+Enter) will list all files under the input directory\n",
    "\n",
    "import os\n",
    "for dirname, _, filenames in os.walk('/kaggle/input'):\n",
    "    for filename in filenames:\n",
    "        print(os.path.join(dirname, filename))\n",
    "\n",
    "# You can write up to 5GB to the current directory (/kaggle/working/) that gets preserved as output when you create a version using \"Save & Run All\" \n",
    "# You can also write temporary files to /kaggle/temp/, but they won't be saved outside of the current session"
   ]
  },
  {
   "cell_type": "markdown",
   "execution_count": null,
   "metadata": {
    "papermill": {
     "duration": 0.004289,
     "end_time": "2020-08-20T10:12:38.162870",
     "exception": false,
     "start_time": "2020-08-20T10:12:38.158581",
     "status": "completed"
    },
    "tags": []
   },
   "source": [
    "# Merge 12 months of sales data into a single csv file**"
   ]
  },
  {
   "cell_type": "code",
   "execution_count": 2,
   "metadata": {
    "_cell_guid": "79c7e3d0-c299-4dcb-8224-4455121ee9b0",
    "_uuid": "d629ff2d2480ee46fbb7e2d37f6b5fab8052498a",
    "execution": {
     "iopub.execute_input": "2020-08-20T10:12:38.180342Z",
     "iopub.status.busy": "2020-08-20T10:12:38.179648Z",
     "iopub.status.idle": "2020-08-20T10:12:40.424105Z",
     "shell.execute_reply": "2020-08-20T10:12:40.423387Z"
    },
    "papermill": {
     "duration": 2.256749,
     "end_time": "2020-08-20T10:12:40.424245",
     "exception": false,
     "start_time": "2020-08-20T10:12:38.167496",
     "status": "completed"
    },
    "tags": []
   },
   "outputs": [],
   "source": [
    "# Create a list of data files from data dir.also import os\n",
    "data_files_list = [file for file in os.listdir('../input/sales-data-for-eda/Sales_Data/')]\n",
    "\n",
    "# Create an empty DF\n",
    "combined_data = pd.DataFrame()\n",
    "\n",
    "# read each file in df and then concatenate with empty DF\n",
    "\n",
    "for file in data_files_list:\n",
    "    temp_df = pd.read_csv('../input/sales-data-for-eda/Sales_Data/'+file)\n",
    "    combined_data = pd.concat([combined_data, temp_df])\n",
    "\n",
    "combined_data.to_csv('all_data_combined.csv', index=False)\n",
    "\n",
    "#data combined. Now read the combined file directly and use for analysis\n",
    "all_data = pd.read_csv('all_data_combined.csv')\n"
   ]
  },
  {
   "cell_type": "markdown",
   "execution_count": null,
   "metadata": {
    "papermill": {
     "duration": 0.004716,
     "end_time": "2020-08-20T10:12:40.436497",
     "exception": false,
     "start_time": "2020-08-20T10:12:40.431781",
     "status": "completed"
    },
    "tags": []
   },
   "source": [
    "# Data cleaning and formatting"
   ]
  },
  {
   "cell_type": "code",
   "execution_count": 3,
   "metadata": {
    "execution": {
     "iopub.execute_input": "2020-08-20T10:12:40.504503Z",
     "iopub.status.busy": "2020-08-20T10:12:40.503741Z",
     "iopub.status.idle": "2020-08-20T10:12:40.964991Z",
     "shell.execute_reply": "2020-08-20T10:12:40.964092Z"
    },
    "papermill": {
     "duration": 0.523823,
     "end_time": "2020-08-20T10:12:40.965166",
     "exception": false,
     "start_time": "2020-08-20T10:12:40.441343",
     "status": "completed"
    },
    "tags": []
   },
   "outputs": [],
   "source": [
    "# find rows with NaN across df\n",
    "# nan_df = all_data[all_data.isna().any(axis=1)]\n",
    "# print(nan_df.head())\n",
    "# Drop nan from nan_df\n",
    "all_data = all_data.dropna(how='all')\n",
    "\n",
    "# #Check for error with unexpected field name starting 'Or'\n",
    "all_data = all_data[all_data['Order Date'].str[0:2] != 'Or']\n",
    "# print(temp_df.to_string())\n",
    "\n",
    "# Create a new column called Month, extract month number from Order Data and convert Month to int.\n",
    "all_data['Month'] = all_data['Order Date'].str[0:2]\n",
    "all_data['Month'] = all_data['Month'].astype('int')\n",
    "\n",
    "# Change column type of price and quantity to integer and float respectively\n",
    "all_data['Quantity Ordered'] = pd.to_numeric(all_data['Quantity Ordered']) #To int\n",
    "all_data['Price Each'] = pd.to_numeric(all_data['Price Each']) #To float\n",
    "# print(all_data.head().to_string())\n"
   ]
  },
  {
   "cell_type": "markdown",
   "execution_count": null,
   "metadata": {
    "papermill": {
     "duration": 0.006993,
     "end_time": "2020-08-20T10:12:40.980152",
     "exception": false,
     "start_time": "2020-08-20T10:12:40.973159",
     "status": "completed"
    },
    "tags": []
   },
   "source": [
    "# Q. What is the best month for sale? How much was earned?"
   ]
  },
  {
   "cell_type": "code",
   "execution_count": 4,
   "metadata": {
    "execution": {
     "iopub.execute_input": "2020-08-20T10:12:41.020516Z",
     "iopub.status.busy": "2020-08-20T10:12:41.019413Z",
     "iopub.status.idle": "2020-08-20T10:12:41.334000Z",
     "shell.execute_reply": "2020-08-20T10:12:41.334594Z"
    },
    "papermill": {
     "duration": 0.34764,
     "end_time": "2020-08-20T10:12:41.334770",
     "exception": false,
     "start_time": "2020-08-20T10:12:40.987130",
     "status": "completed"
    },
    "tags": []
   },
   "outputs": [
    {
     "name": "stdout",
     "output_type": "stream",
     "text": [
      "       Quantity Ordered    Price Each         Sales\n",
      "Month                                              \n",
      "1                 10903  1.811768e+06  1.822257e+06\n",
      "2                 13449  2.188885e+06  2.202022e+06\n",
      "3                 17005  2.791208e+06  2.807100e+06\n",
      "4                 20558  3.367671e+06  3.390670e+06\n",
      "5                 18667  3.135125e+06  3.152607e+06\n",
      "6                 15253  2.562026e+06  2.577802e+06\n",
      "7                 16072  2.632540e+06  2.647776e+06\n",
      "8                 13448  2.230345e+06  2.244468e+06\n",
      "9                 13109  2.084992e+06  2.097560e+06\n",
      "10                22703  3.715555e+06  3.736727e+06\n",
      "11                19798  3.180601e+06  3.199603e+06\n",
      "12                28114  4.588415e+06  4.613443e+06\n"
     ]
    },
    {
     "data": {
      "image/png": "[encoded data removed]",
      "text/plain": [
       "<Figure size 432x288 with 1 Axes>"
      ]
     },
     "metadata": {
      "needs_background": "light"
     },
     "output_type": "display_data"
    },
    {
     "name": "stdout",
     "output_type": "stream",
     "text": [
      "A: December is the best month for sales, followed by October. The reason could be festive sales where the ecommerce industry witnesses a major sales boost.\n"
     ]
    }
   ],
   "source": [
    "#Create column to calculate sales - quantity * price\n",
    "all_data['Sales'] = all_data['Quantity Ordered'] * all_data['Price Each']\n",
    "# print(all_data.head().to_string())\n",
    "\n",
    "sales_sum = all_data.groupby('Month').sum()\n",
    "print(sales_sum)\n",
    "\n",
    "# Create bar chart using matplotlib and format\n",
    "import matplotlib.pyplot as plt\n",
    "months = range(1,13)\n",
    "plt.bar(months, sales_sum['Sales'])\n",
    "plt.title('Monthly Sales comparision chart.')\n",
    "plt.xticks(months)\n",
    "plt.xlabel('Month number')\n",
    "plt.ylabel('Sales in USD ($)')\n",
    "plt.show()\n",
    "print('A: December is the best month for sales, followed by October. The reason could be festive sales where the ecommerce industry witnesses a major sales boost.')"
   ]
  },
  {
   "cell_type": "markdown",
   "execution_count": null,
   "metadata": {
    "papermill": {
     "duration": 0.005733,
     "end_time": "2020-08-20T10:12:41.346996",
     "exception": false,
     "start_time": "2020-08-20T10:12:41.341263",
     "status": "completed"
    },
    "tags": []
   },
   "source": [
    "# Q. Which city has the highest sales?"
   ]
  },
  {
   "cell_type": "code",
   "execution_count": 5,
   "metadata": {
    "execution": {
     "iopub.execute_input": "2020-08-20T10:12:41.374026Z",
     "iopub.status.busy": "2020-08-20T10:12:41.372954Z",
     "iopub.status.idle": "2020-08-20T10:12:42.415925Z",
     "shell.execute_reply": "2020-08-20T10:12:42.416604Z"
    },
    "papermill": {
     "duration": 1.062319,
     "end_time": "2020-08-20T10:12:42.416815",
     "exception": false,
     "start_time": "2020-08-20T10:12:41.354496",
     "status": "completed"
    },
    "tags": []
   },
   "outputs": [
    {
     "name": "stdout",
     "output_type": "stream",
     "text": [
      "                      Quantity Ordered    Price Each   Month         Sales\n",
      "City                                                                      \n",
      " Atlanta (GA)                    16602  2.779908e+06  104794  2.795499e+06\n",
      " Austin (TX)                     11153  1.809874e+06   69829  1.819582e+06\n",
      " Boston (MA)                     22528  3.637410e+06  141112  3.661642e+06\n",
      " Dallas (TX)                     16730  2.752628e+06  104620  2.767975e+06\n",
      " Los Angeles (CA)                33289  5.421435e+06  208325  5.452571e+06\n",
      " New York City (NY)              27932  4.635371e+06  175741  4.664317e+06\n",
      " Portland (ME)                    2750  4.471893e+05   17144  4.497583e+05\n",
      " Portland (OR)                   11303  1.860558e+06   70621  1.870732e+06\n",
      " San Francisco (CA)              50239  8.211462e+06  315520  8.262204e+06\n",
      " Seattle (WA)                    16553  2.733296e+06  104941  2.747755e+06\n"
     ]
    },
    {
     "data": {
      "image/png": "[encoded data removed]",
      "text/plain": [
       "<Figure size 432x288 with 1 Axes>"
      ]
     },
     "metadata": {
      "needs_background": "light"
     },
     "output_type": "display_data"
    },
    {
     "name": "stdout",
     "output_type": "stream",
     "text": [
      "A: San Francisco has the highest sales in US, followed by Los Angeles.\n"
     ]
    }
   ],
   "source": [
    "# create a city column by extracting city name off the address\n",
    "\n",
    "# City Splitter func definition\n",
    "def get_city(address):\n",
    "    return address.split(',')[1]\n",
    "\n",
    "# State Splitter to avoid issues with multiple cities with same names\n",
    "def get_state(address):\n",
    "    return address.split(',')[2].split(' ')[1]\n",
    "\n",
    "# Two option to split. Lambda function or lambda function call\n",
    "all_data['City'] = all_data['Purchase Address'].apply(lambda x: x.split(',')[1])\n",
    "all_data['City'] = all_data['Purchase Address'].apply(lambda x: get_city(x) + ' (' + get_state(x) + ')')\n",
    "all_data['City'] = all_data['Purchase Address'].apply(lambda x: f\"{get_city(x)} ({get_state(x)}) \")  #F string variation\n",
    "\n",
    "#City sales group by\n",
    "citywise_sales = all_data.groupby('City').sum()\n",
    "print(citywise_sales.to_string())\n",
    "\n",
    "# Create City wise sales bar chart\n",
    "import matplotlib.pyplot as plt\n",
    "cities = [city for city, df in all_data.groupby('City')]  #List comprehension to match order of data\n",
    "plt.bar(cities, citywise_sales['Sales'])\n",
    "plt.xticks(cities, rotation='vertical', size=8)\n",
    "plt.xlabel('City Name (State)')\n",
    "plt.ylabel('Sales in USD ($)')\n",
    "plt.title('City-wise Sales in USA')\n",
    "plt.show()\n",
    "\n",
    "print('A: San Francisco has the highest sales in US, followed by Los Angeles.')"
   ]
  },
  {
   "cell_type": "markdown",
   "execution_count": null,
   "metadata": {
    "papermill": {
     "duration": 0.005346,
     "end_time": "2020-08-20T10:12:42.428744",
     "exception": false,
     "start_time": "2020-08-20T10:12:42.423398",
     "status": "completed"
    },
    "tags": []
   },
   "source": [
    "# Q. What time should we display advertisements to maximise for product purchase?"
   ]
  },
  {
   "cell_type": "code",
   "execution_count": 6,
   "metadata": {
    "execution": {
     "iopub.execute_input": "2020-08-20T10:12:42.456051Z",
     "iopub.status.busy": "2020-08-20T10:12:42.451152Z",
     "iopub.status.idle": "2020-08-20T10:13:01.429658Z",
     "shell.execute_reply": "2020-08-20T10:13:01.430452Z"
    },
    "papermill": {
     "duration": 18.996408,
     "end_time": "2020-08-20T10:13:01.430671",
     "exception": false,
     "start_time": "2020-08-20T10:12:42.434263",
     "status": "completed"
    },
    "tags": []
   },
   "outputs": [
    {
     "data": {
      "image/png": "[encoded data removed]",
      "text/plain": [
       "<Figure size 432x288 with 1 Axes>"
      ]
     },
     "metadata": {
      "needs_background": "light"
     },
     "output_type": "display_data"
    },
    {
     "name": "stdout",
     "output_type": "stream",
     "text": [
      "A: 12pm and 7pm is probably the best time to advertise to maximise product purchase.\n"
     ]
    }
   ],
   "source": [
    "#Covert data to date/time object using data-time functions by making hour and minute columns\n",
    "all_data['Order Date'] = pd.to_datetime(all_data['Order Date']) #Create date/time object\n",
    "all_data['Hour'] = all_data['Order Date'].dt.hour\n",
    "all_data['Minute'] = all_data['Order Date'].dt.minute\n",
    "\n",
    "hours = [hour for hour, df in all_data.groupby('Hour')]  #List comprehension to match order of data #Create list of 24 hours for analysis\n",
    "plt.plot(hours, all_data.groupby(['Hour']).count()) #count the orders each hours of the day\n",
    "plt.xticks(hours)\n",
    "plt.xlabel('Hour of the day')\n",
    "plt.ylabel('Number of orders')\n",
    "plt.grid()\n",
    "plt.title('Hour wise order analysis')\n",
    "plt.show()\n",
    "\n",
    "print('A: 12pm and 7pm is probably the best time to advertise to maximise product purchase.')\n",
    "# print(all_data.head().to_string())\n"
   ]
  },
  {
   "cell_type": "markdown",
   "execution_count": null,
   "metadata": {
    "papermill": {
     "duration": 0.005494,
     "end_time": "2020-08-20T10:13:01.443883",
     "exception": false,
     "start_time": "2020-08-20T10:13:01.438389",
     "status": "completed"
    },
    "tags": []
   },
   "source": [
    "# Q. What products are most often sold together?"
   ]
  },
  {
   "cell_type": "code",
   "execution_count": 7,
   "metadata": {
    "execution": {
     "iopub.execute_input": "2020-08-20T10:13:01.464307Z",
     "iopub.status.busy": "2020-08-20T10:13:01.463608Z",
     "iopub.status.idle": "2020-08-20T10:13:21.357406Z",
     "shell.execute_reply": "2020-08-20T10:13:21.359427Z"
    },
    "papermill": {
     "duration": 19.910163,
     "end_time": "2020-08-20T10:13:21.359641",
     "exception": false,
     "start_time": "2020-08-20T10:13:01.449478",
     "status": "completed"
    },
    "tags": []
   },
   "outputs": [
    {
     "name": "stderr",
     "output_type": "stream",
     "text": [
      "/opt/conda/lib/python3.7/site-packages/ipykernel_launcher.py:4: SettingWithCopyWarning: \n",
      "A value is trying to be set on a copy of a slice from a DataFrame.\n",
      "Try using .loc[row_indexer,col_indexer] = value instead\n",
      "\n",
      "See the caveats in the documentation: https://pandas.pydata.org/pandas-docs/stable/user_guide/indexing.html#returning-a-view-versus-a-copy\n",
      "  after removing the cwd from sys.path.\n"
     ]
    },
    {
     "name": "stdout",
     "output_type": "stream",
     "text": [
      "('iPhone', 'Lightning Charging Cable') 1005\n",
      "('Google Phone', 'USB-C Charging Cable') 987\n",
      "('iPhone', 'Wired Headphones') 447\n",
      "('Google Phone', 'Wired Headphones') 414\n",
      "('Vareebadd Phone', 'USB-C Charging Cable') 361\n",
      "('iPhone', 'Apple Airpods Headphones') 360\n",
      "('Google Phone', 'Bose SoundSport Headphones') 220\n",
      "('USB-C Charging Cable', 'Wired Headphones') 160\n",
      "('Vareebadd Phone', 'Wired Headphones') 143\n",
      "('Lightning Charging Cable', 'Wired Headphones') 92\n",
      "\n",
      "\n",
      "A: iPhone along with Lightning Charging Cable is best selling product combination.\n"
     ]
    }
   ],
   "source": [
    "#Create a new df with duplicated order. Duplicated order indicates order with two or more products. keep=False to use all occurances\n",
    "combo_df = all_data[all_data['Order Date'].duplicated(keep=False)]\n",
    "#Create a new column, group by orderid and combine products in a single cell comma separated\n",
    "combo_df['Best Combo'] = combo_df.groupby('Order ID')['Product'].transform(lambda x: ','.join(x))\n",
    "#Remove duplicated entry and show only orderid and combo column results\n",
    "combo_df = combo_df[['Order ID', 'Best Combo']].drop_duplicates()\n",
    "# print(combo_df.head())\n",
    "\n",
    "#Count the occurances\n",
    "from itertools import combinations\n",
    "from collections import Counter\n",
    "\n",
    "#count the combination of 2 products using the above mentioned libs.\n",
    "count = Counter()\n",
    "#iterate through each cell, split products in a list and count\n",
    "for row in combo_df['Best Combo']:\n",
    "    row_list = row.split(',')\n",
    "    count.update(Counter(combinations(row_list, 2))) #group of 2. Change to 3 for group of 3s\n",
    "\n",
    "#Most common occurance\n",
    "for key, value in count.most_common(10):\n",
    "    print(key, value)\n",
    "    \n",
    "print('\\n\\nA: iPhone along with Lightning Charging Cable is best selling product combination.')\n"
   ]
  },
  {
   "cell_type": "markdown",
   "execution_count": null,
   "metadata": {
    "papermill": {
     "duration": 0.00561,
     "end_time": "2020-08-20T10:13:21.371584",
     "exception": false,
     "start_time": "2020-08-20T10:13:21.365974",
     "status": "completed"
    },
    "tags": []
   },
   "source": [
    "# Q. What product sold the most? Why?"
   ]
  },
  {
   "cell_type": "code",
   "execution_count": 8,
   "metadata": {
    "execution": {
     "iopub.execute_input": "2020-08-20T10:13:21.396077Z",
     "iopub.status.busy": "2020-08-20T10:13:21.392633Z",
     "iopub.status.idle": "2020-08-20T10:13:22.103071Z",
     "shell.execute_reply": "2020-08-20T10:13:22.103782Z"
    },
    "papermill": {
     "duration": 0.726313,
     "end_time": "2020-08-20T10:13:22.103985",
     "exception": false,
     "start_time": "2020-08-20T10:13:21.377672",
     "status": "completed"
    },
    "tags": []
   },
   "outputs": [
    {
     "data": {
      "image/png": "[encoded data removed]",
      "text/plain": [
       "<Figure size 432x288 with 1 Axes>"
      ]
     },
     "metadata": {
      "needs_background": "light"
     },
     "output_type": "display_data"
    },
    {
     "data": {
      "image/png": "[encoded data removed]",
      "text/plain": [
       "<Figure size 432x288 with 2 Axes>"
      ]
     },
     "metadata": {
      "needs_background": "light"
     },
     "output_type": "display_data"
    },
    {
     "name": "stdout",
     "output_type": "stream",
     "text": [
      "A: The top selling product is 'AAA Batteries'. The top selling products seem to have a correlation with the price of the product. The cheaper the product higher the quantity ordered and vice versa.\n"
     ]
    }
   ],
   "source": [
    "product_group = all_data.groupby('Product')\n",
    "quantity_ordered = product_group.sum()['Quantity Ordered']\n",
    "\n",
    "products = [product for product, df in product_group]\n",
    "plt.bar(products, quantity_ordered)\n",
    "plt.xticks(products, rotation='vertical', size=8)\n",
    "plt.xlabel('Product name')\n",
    "plt.ylabel('Quantity ordered')\n",
    "plt.title('Top selling products')\n",
    "plt.show()\n",
    "\n",
    "#Find price of the best selling products\n",
    "prices = all_data.groupby('Product').mean()['Price Each']\n",
    "\n",
    "#Find corelation between best products and their price\n",
    "#Add the second axis at y for price comparision in the same graph\n",
    "fig, ax1 = plt.subplots()\n",
    "ax2 = ax1.twinx()\n",
    "ax1.bar(products, quantity_ordered, color='g')\n",
    "ax2.plot(products, prices, 'b-') #Second axis on y\n",
    "\n",
    "ax1.set_xlabel('Product Name')\n",
    "ax1.set_ylabel('Quantity Ordered', color='g')\n",
    "ax1.title.set_text('Correlation betwen top selling products and its price')\n",
    "ax2.set_ylabel('Price', color='b')\n",
    "ax1.set_xticklabels(products, rotation='vertical', size=8)\n",
    "plt.show()\n",
    "print(\"A: The top selling product is 'AAA Batteries'. The top selling products seem to have a correlation with the price of the product. The cheaper the product higher the quantity ordered and vice versa.\")"
   ]
  },
  {
   "cell_type": "markdown",
   "execution_count": null,
   "metadata": {
    "papermill": {
     "duration": 0.006422,
     "end_time": "2020-08-20T10:13:22.118519",
     "exception": false,
     "start_time": "2020-08-20T10:13:22.112097",
     "status": "completed"
    },
    "tags": []
   },
   "source": [
    "*Credit to Keith Galli for sharing such a cool project tutorial!*"
   ]
  },
  {
   "cell_type": "raw",
   "execution_count": null,
   "metadata": {
    "papermill": {
     "duration": 0.006155,
     "end_time": "2020-08-20T10:13:22.131183",
     "exception": false,
     "start_time": "2020-08-20T10:13:22.125028",
     "status": "completed"
    },
    "tags": []
   },
   "source": []
  }
 ],
 "metadata": {
  "kernelspec": {
   "display_name": "Python 3",
   "language": "python",
   "name": "python3"
  },
  "language_info": {
   "codemirror_mode": {
    "name": "ipython",
    "version": 3
   },
   "file_extension": ".py",
   "mimetype": "text/x-python",
   "name": "python",
   "nbconvert_exporter": "python",
   "pygments_lexer": "ipython3",
   "version": "3.7.6"
  },
  "papermill": {
   "duration": 49.323647,
   "end_time": "2020-08-20T10:13:22.252083",
   "environment_variables": {},
   "exception": null,
   "input_path": "__notebook__.ipynb",
   "output_path": "__notebook__.ipynb",
   "parameters": {},
   "start_time": "2020-08-20T10:12:32.928436",
   "version": "2.1.0"
  }
 },
 "nbformat": 4,
 "nbformat_minor": 4
}
