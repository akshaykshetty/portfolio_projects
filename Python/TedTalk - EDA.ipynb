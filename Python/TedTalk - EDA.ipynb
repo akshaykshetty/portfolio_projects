{
 "cells": [
  {
   "cell_type": "markdown",
   "id": "5d7e0367",
   "metadata": {},
   "source": [
    "## Exploratory Data Analysis of Ted Talk's Historical Data"
   ]
  },
  {
   "attachments": {},
   "cell_type": "markdown",
   "id": "7a8c8456",
   "metadata": {},
   "source": [
    "Based on the dataset shared here at https://www.kaggle.com/code/ashishjangra27/ted-talk-analysis/data. \n",
    "\n",
    "We have tried to answer the following questions:\n",
    " -   Finding the most popular TED talks\n",
    " -   Finding the most popular TED talks Speaker (in terms of number of talks)\n",
    " -   Month-wise Analysis of TED talk frequency\n",
    " -   Year-wise Analysis of TED talk frequency\n",
    " -   Finding TED talks of your favorite Author\n",
    " -   Finding TED talks with the best view to like ratio\n",
    " -   Finding TED talks based on tags (like climate)\n",
    " -   Finding the most popular TED talks Speaker (in terms of number of views)"
   ]
  },
  {
   "cell_type": "code",
   "execution_count": 1,
   "id": "5e2757cb",
   "metadata": {},
   "outputs": [],
   "source": [
    "#Importing Libraries\n",
    "import numpy as np \n",
    "import pandas as pd \n",
    "import matplotlib.pyplot as plt\n",
    "%matplotlib inline\n",
    "import seaborn as sns \n",
    "import warnings\n",
    "warnings.filterwarnings(\"ignore\")\n",
    "import os\n",
    "for dirname, _, filenames in os.walk('/kaggle/input'):\n",
    "    for filename in filenames:\n",
    "        print(os.path.join(dirname, filename))"
   ]
  },
  {
   "cell_type": "code",
   "execution_count": 2,
   "id": "a0ed6975",
   "metadata": {
    "scrolled": true
   },
   "outputs": [
    {
     "data": {
      "text/html": [
       "<div>\n",
       "<style scoped>\n",
       "    .dataframe tbody tr th:only-of-type {\n",
       "        vertical-align: middle;\n",
       "    }\n",
       "\n",
       "    .dataframe tbody tr th {\n",
       "        vertical-align: top;\n",
       "    }\n",
       "\n",
       "    .dataframe thead th {\n",
       "        text-align: right;\n",
       "    }\n",
       "</style>\n",
       "<table border=\"1\" class=\"dataframe\">\n",
       "  <thead>\n",
       "    <tr style=\"text-align: right;\">\n",
       "      <th></th>\n",
       "      <th>title</th>\n",
       "      <th>author</th>\n",
       "      <th>date</th>\n",
       "      <th>views</th>\n",
       "      <th>likes</th>\n",
       "      <th>link</th>\n",
       "    </tr>\n",
       "  </thead>\n",
       "  <tbody>\n",
       "    <tr>\n",
       "      <th>0</th>\n",
       "      <td>Climate action needs new frontline leadership</td>\n",
       "      <td>Ozawa Bineshi Albert</td>\n",
       "      <td>December 2021</td>\n",
       "      <td>404000</td>\n",
       "      <td>12000</td>\n",
       "      <td>https://ted.com/talks/ozawa_bineshi_albert_climate_action_needs_new_frontline_leadership</td>\n",
       "    </tr>\n",
       "    <tr>\n",
       "      <th>1</th>\n",
       "      <td>The dark history of the overthrow of Hawaii</td>\n",
       "      <td>Sydney Iaukea</td>\n",
       "      <td>February 2022</td>\n",
       "      <td>214000</td>\n",
       "      <td>6400</td>\n",
       "      <td>https://ted.com/talks/sydney_iaukea_the_dark_history_of_the_overthrow_of_hawaii</td>\n",
       "    </tr>\n",
       "    <tr>\n",
       "      <th>2</th>\n",
       "      <td>How play can spark new ideas for your business</td>\n",
       "      <td>Martin Reeves</td>\n",
       "      <td>September 2021</td>\n",
       "      <td>412000</td>\n",
       "      <td>12000</td>\n",
       "      <td>https://ted.com/talks/martin_reeves_how_play_can_spark_new_ideas_for_your_business</td>\n",
       "    </tr>\n",
       "    <tr>\n",
       "      <th>3</th>\n",
       "      <td>Why is China appointing judges to combat climate change?</td>\n",
       "      <td>James K. Thornton</td>\n",
       "      <td>October 2021</td>\n",
       "      <td>427000</td>\n",
       "      <td>12000</td>\n",
       "      <td>https://ted.com/talks/james_k_thornton_why_is_china_appointing_judges_to_combat_climate_change</td>\n",
       "    </tr>\n",
       "    <tr>\n",
       "      <th>4</th>\n",
       "      <td>Cement's carbon problem — and 2 ways to fix it</td>\n",
       "      <td>Mahendra Singhi</td>\n",
       "      <td>October 2021</td>\n",
       "      <td>2400</td>\n",
       "      <td>72</td>\n",
       "      <td>https://ted.com/talks/mahendra_singhi_cement_s_carbon_problem_and_2_ways_to_fix_it</td>\n",
       "    </tr>\n",
       "  </tbody>\n",
       "</table>\n",
       "</div>"
      ],
      "text/plain": [
       "                                                      title  \\\n",
       "0             Climate action needs new frontline leadership   \n",
       "1               The dark history of the overthrow of Hawaii   \n",
       "2            How play can spark new ideas for your business   \n",
       "3  Why is China appointing judges to combat climate change?   \n",
       "4            Cement's carbon problem — and 2 ways to fix it   \n",
       "\n",
       "                 author            date   views  likes  \\\n",
       "0  Ozawa Bineshi Albert   December 2021  404000  12000   \n",
       "1         Sydney Iaukea   February 2022  214000   6400   \n",
       "2         Martin Reeves  September 2021  412000  12000   \n",
       "3     James K. Thornton    October 2021  427000  12000   \n",
       "4       Mahendra Singhi    October 2021    2400     72   \n",
       "\n",
       "                                                                                             link  \n",
       "0        https://ted.com/talks/ozawa_bineshi_albert_climate_action_needs_new_frontline_leadership  \n",
       "1                 https://ted.com/talks/sydney_iaukea_the_dark_history_of_the_overthrow_of_hawaii  \n",
       "2              https://ted.com/talks/martin_reeves_how_play_can_spark_new_ideas_for_your_business  \n",
       "3  https://ted.com/talks/james_k_thornton_why_is_china_appointing_judges_to_combat_climate_change  \n",
       "4              https://ted.com/talks/mahendra_singhi_cement_s_carbon_problem_and_2_ways_to_fix_it  "
      ]
     },
     "execution_count": 2,
     "metadata": {},
     "output_type": "execute_result"
    }
   ],
   "source": [
    "pd.set_option('max_colwidth', 100)\n",
    "df = pd.read_csv(r\"C:\\Users\\v-aksshetty\\Downloads\\TedTalkData\\data.csv\")\n",
    "df.head()"
   ]
  },
  {
   "cell_type": "code",
   "execution_count": 3,
   "id": "691ade4c",
   "metadata": {},
   "outputs": [
    {
     "data": {
      "text/plain": [
       "(5440, 6)"
      ]
     },
     "execution_count": 3,
     "metadata": {},
     "output_type": "execute_result"
    }
   ],
   "source": [
    "df.shape"
   ]
  },
  {
   "cell_type": "code",
   "execution_count": 4,
   "id": "d16b0f6a",
   "metadata": {},
   "outputs": [
    {
     "name": "stdout",
     "output_type": "stream",
     "text": [
      "<class 'pandas.core.frame.DataFrame'>\n",
      "RangeIndex: 5440 entries, 0 to 5439\n",
      "Data columns (total 6 columns):\n",
      " #   Column  Non-Null Count  Dtype \n",
      "---  ------  --------------  ----- \n",
      " 0   title   5440 non-null   object\n",
      " 1   author  5439 non-null   object\n",
      " 2   date    5440 non-null   object\n",
      " 3   views   5440 non-null   int64 \n",
      " 4   likes   5440 non-null   int64 \n",
      " 5   link    5440 non-null   object\n",
      "dtypes: int64(2), object(4)\n",
      "memory usage: 255.1+ KB\n"
     ]
    }
   ],
   "source": [
    "df.info()"
   ]
  },
  {
   "cell_type": "code",
   "execution_count": 5,
   "id": "ef0473bc",
   "metadata": {
    "scrolled": true
   },
   "outputs": [
    {
     "data": {
      "text/plain": [
       "title     0\n",
       "author    1\n",
       "date      0\n",
       "views     0\n",
       "likes     0\n",
       "link      0\n",
       "dtype: int64"
      ]
     },
     "execution_count": 5,
     "metadata": {},
     "output_type": "execute_result"
    }
   ],
   "source": [
    "df.isnull().sum()"
   ]
  },
  {
   "cell_type": "code",
   "execution_count": 6,
   "id": "c79ca61e",
   "metadata": {},
   "outputs": [
    {
     "data": {
      "text/plain": [
       "1"
      ]
     },
     "execution_count": 6,
     "metadata": {},
     "output_type": "execute_result"
    }
   ],
   "source": [
    "df.author.isnull().sum()"
   ]
  },
  {
   "cell_type": "code",
   "execution_count": 7,
   "id": "ac0c5c55",
   "metadata": {},
   "outputs": [],
   "source": [
    "df.dropna(inplace = True)"
   ]
  },
  {
   "cell_type": "code",
   "execution_count": 8,
   "id": "0bd1e249",
   "metadata": {},
   "outputs": [
    {
     "data": {
      "text/plain": [
       "0"
      ]
     },
     "execution_count": 8,
     "metadata": {},
     "output_type": "execute_result"
    }
   ],
   "source": [
    "df.author.isnull().sum()"
   ]
  },
  {
   "cell_type": "code",
   "execution_count": 9,
   "id": "b3b4463a",
   "metadata": {
    "scrolled": true
   },
   "outputs": [
    {
     "data": {
      "text/plain": [
       "Index(['title', 'author', 'date', 'views', 'likes', 'link'], dtype='object')"
      ]
     },
     "execution_count": 9,
     "metadata": {},
     "output_type": "execute_result"
    }
   ],
   "source": [
    "df.columns"
   ]
  },
  {
   "cell_type": "code",
   "execution_count": 10,
   "id": "f8c05dc2",
   "metadata": {
    "scrolled": true
   },
   "outputs": [
    {
     "data": {
      "text/html": [
       "<div>\n",
       "<style scoped>\n",
       "    .dataframe tbody tr th:only-of-type {\n",
       "        vertical-align: middle;\n",
       "    }\n",
       "\n",
       "    .dataframe tbody tr th {\n",
       "        vertical-align: top;\n",
       "    }\n",
       "\n",
       "    .dataframe thead th {\n",
       "        text-align: right;\n",
       "    }\n",
       "</style>\n",
       "<table border=\"1\" class=\"dataframe\">\n",
       "  <thead>\n",
       "    <tr style=\"text-align: right;\">\n",
       "      <th></th>\n",
       "      <th>title</th>\n",
       "      <th>author</th>\n",
       "      <th>date</th>\n",
       "      <th>views</th>\n",
       "      <th>likes</th>\n",
       "      <th>link</th>\n",
       "    </tr>\n",
       "  </thead>\n",
       "  <tbody>\n",
       "    <tr>\n",
       "      <th>5436</th>\n",
       "      <td>Do schools kill creativity?</td>\n",
       "      <td>Sir Ken Robinson</td>\n",
       "      <td>February 2006</td>\n",
       "      <td>72000000</td>\n",
       "      <td>2100000</td>\n",
       "      <td>https://ted.com/talks/sir_ken_robinson_do_schools_kill_creativity</td>\n",
       "    </tr>\n",
       "    <tr>\n",
       "      <th>4084</th>\n",
       "      <td>Your body language may shape who you are</td>\n",
       "      <td>Amy Cuddy</td>\n",
       "      <td>June 2012</td>\n",
       "      <td>64000000</td>\n",
       "      <td>1900000</td>\n",
       "      <td>https://ted.com/talks/amy_cuddy_your_body_language_may_shape_who_you_are</td>\n",
       "    </tr>\n",
       "    <tr>\n",
       "      <th>2958</th>\n",
       "      <td>Inside the mind of a master procrastinator</td>\n",
       "      <td>Tim Urban</td>\n",
       "      <td>February 2016</td>\n",
       "      <td>60000000</td>\n",
       "      <td>1800000</td>\n",
       "      <td>https://ted.com/talks/tim_urban_inside_the_mind_of_a_master_procrastinator</td>\n",
       "    </tr>\n",
       "    <tr>\n",
       "      <th>4765</th>\n",
       "      <td>How great leaders inspire action</td>\n",
       "      <td>Simon Sinek</td>\n",
       "      <td>September 2009</td>\n",
       "      <td>57000000</td>\n",
       "      <td>1700000</td>\n",
       "      <td>https://ted.com/talks/simon_sinek_how_great_leaders_inspire_action</td>\n",
       "    </tr>\n",
       "    <tr>\n",
       "      <th>4605</th>\n",
       "      <td>The power of vulnerability</td>\n",
       "      <td>Brené Brown</td>\n",
       "      <td>June 2010</td>\n",
       "      <td>56000000</td>\n",
       "      <td>1700000</td>\n",
       "      <td>https://ted.com/talks/brene_brown_the_power_of_vulnerability</td>\n",
       "    </tr>\n",
       "  </tbody>\n",
       "</table>\n",
       "</div>"
      ],
      "text/plain": [
       "                                           title            author  \\\n",
       "5436                 Do schools kill creativity?  Sir Ken Robinson   \n",
       "4084    Your body language may shape who you are         Amy Cuddy   \n",
       "2958  Inside the mind of a master procrastinator         Tim Urban   \n",
       "4765            How great leaders inspire action       Simon Sinek   \n",
       "4605                  The power of vulnerability       Brené Brown   \n",
       "\n",
       "                date     views    likes  \\\n",
       "5436   February 2006  72000000  2100000   \n",
       "4084       June 2012  64000000  1900000   \n",
       "2958   February 2016  60000000  1800000   \n",
       "4765  September 2009  57000000  1700000   \n",
       "4605       June 2010  56000000  1700000   \n",
       "\n",
       "                                                                            link  \n",
       "5436           https://ted.com/talks/sir_ken_robinson_do_schools_kill_creativity  \n",
       "4084    https://ted.com/talks/amy_cuddy_your_body_language_may_shape_who_you_are  \n",
       "2958  https://ted.com/talks/tim_urban_inside_the_mind_of_a_master_procrastinator  \n",
       "4765          https://ted.com/talks/simon_sinek_how_great_leaders_inspire_action  \n",
       "4605                https://ted.com/talks/brene_brown_the_power_of_vulnerability  "
      ]
     },
     "execution_count": 10,
     "metadata": {},
     "output_type": "execute_result"
    }
   ],
   "source": [
    "# 1. Finding the most popular TED talks in terms of number of views\n",
    "\n",
    "df.sort_values(\"views\", ascending = False).head()"
   ]
  },
  {
   "cell_type": "code",
   "execution_count": 11,
   "id": "af855277",
   "metadata": {},
   "outputs": [
    {
     "data": {
      "text/plain": [
       "Alex Gendler            45\n",
       "Iseult Gillespie        33\n",
       "Matt Walker             18\n",
       "Alex Rosenthal          15\n",
       "Elizabeth Cox           13\n",
       "                        ..\n",
       "Chris Jordan             1\n",
       "Yann Arthus-Bertrand     1\n",
       "Liz Coleman              1\n",
       "Michelle Obama           1\n",
       "Rick Warren              1\n",
       "Name: author, Length: 4443, dtype: int64"
      ]
     },
     "execution_count": 11,
     "metadata": {},
     "output_type": "execute_result"
    }
   ],
   "source": [
    "# 2. Finding the most popular TED talks Speaker (in terms of number of talks)\n",
    "df.author.value_counts().sort_values(ascending=False)"
   ]
  },
  {
   "cell_type": "code",
   "execution_count": 12,
   "id": "28614eb6",
   "metadata": {},
   "outputs": [],
   "source": [
    "# 3. Month-wise Analysis of TED talk frequency"
   ]
  },
  {
   "cell_type": "code",
   "execution_count": 13,
   "id": "a1b42a80",
   "metadata": {
    "scrolled": false
   },
   "outputs": [
    {
     "data": {
      "text/plain": [
       "title     object\n",
       "author    object\n",
       "date      object\n",
       "views      int64\n",
       "likes      int64\n",
       "link      object\n",
       "dtype: object"
      ]
     },
     "execution_count": 13,
     "metadata": {},
     "output_type": "execute_result"
    }
   ],
   "source": [
    "df.dtypes"
   ]
  },
  {
   "cell_type": "code",
   "execution_count": 14,
   "id": "559c57cc",
   "metadata": {},
   "outputs": [
    {
     "data": {
      "text/plain": [
       "0        December 2021\n",
       "1        February 2022\n",
       "2       September 2021\n",
       "3         October 2021\n",
       "4         October 2021\n",
       "             ...      \n",
       "5435     February 2006\n",
       "5436     February 2006\n",
       "5437     February 2006\n",
       "5438     February 2006\n",
       "5439     February 2006\n",
       "Name: date, Length: 5439, dtype: object"
      ]
     },
     "execution_count": 14,
     "metadata": {},
     "output_type": "execute_result"
    }
   ],
   "source": [
    "df.date"
   ]
  },
  {
   "cell_type": "code",
   "execution_count": 15,
   "id": "fa2b9e51",
   "metadata": {},
   "outputs": [],
   "source": [
    "date_split = df.date.str.split(\" \", expand = True)"
   ]
  },
  {
   "cell_type": "code",
   "execution_count": 16,
   "id": "3105da0e",
   "metadata": {},
   "outputs": [
    {
     "data": {
      "text/html": [
       "<div>\n",
       "<style scoped>\n",
       "    .dataframe tbody tr th:only-of-type {\n",
       "        vertical-align: middle;\n",
       "    }\n",
       "\n",
       "    .dataframe tbody tr th {\n",
       "        vertical-align: top;\n",
       "    }\n",
       "\n",
       "    .dataframe thead th {\n",
       "        text-align: right;\n",
       "    }\n",
       "</style>\n",
       "<table border=\"1\" class=\"dataframe\">\n",
       "  <thead>\n",
       "    <tr style=\"text-align: right;\">\n",
       "      <th></th>\n",
       "      <th>0</th>\n",
       "      <th>1</th>\n",
       "    </tr>\n",
       "  </thead>\n",
       "  <tbody>\n",
       "    <tr>\n",
       "      <th>0</th>\n",
       "      <td>December</td>\n",
       "      <td>2021</td>\n",
       "    </tr>\n",
       "    <tr>\n",
       "      <th>1</th>\n",
       "      <td>February</td>\n",
       "      <td>2022</td>\n",
       "    </tr>\n",
       "    <tr>\n",
       "      <th>2</th>\n",
       "      <td>September</td>\n",
       "      <td>2021</td>\n",
       "    </tr>\n",
       "    <tr>\n",
       "      <th>3</th>\n",
       "      <td>October</td>\n",
       "      <td>2021</td>\n",
       "    </tr>\n",
       "    <tr>\n",
       "      <th>4</th>\n",
       "      <td>October</td>\n",
       "      <td>2021</td>\n",
       "    </tr>\n",
       "  </tbody>\n",
       "</table>\n",
       "</div>"
      ],
      "text/plain": [
       "           0     1\n",
       "0   December  2021\n",
       "1   February  2022\n",
       "2  September  2021\n",
       "3    October  2021\n",
       "4    October  2021"
      ]
     },
     "execution_count": 16,
     "metadata": {},
     "output_type": "execute_result"
    }
   ],
   "source": [
    "date_split.head()"
   ]
  },
  {
   "cell_type": "code",
   "execution_count": 17,
   "id": "70c465e1",
   "metadata": {},
   "outputs": [],
   "source": [
    "date_split.columns = [\"month\", \"year\"]"
   ]
  },
  {
   "cell_type": "code",
   "execution_count": 18,
   "id": "e4301b27",
   "metadata": {},
   "outputs": [
    {
     "data": {
      "text/html": [
       "<div>\n",
       "<style scoped>\n",
       "    .dataframe tbody tr th:only-of-type {\n",
       "        vertical-align: middle;\n",
       "    }\n",
       "\n",
       "    .dataframe tbody tr th {\n",
       "        vertical-align: top;\n",
       "    }\n",
       "\n",
       "    .dataframe thead th {\n",
       "        text-align: right;\n",
       "    }\n",
       "</style>\n",
       "<table border=\"1\" class=\"dataframe\">\n",
       "  <thead>\n",
       "    <tr style=\"text-align: right;\">\n",
       "      <th></th>\n",
       "      <th>month</th>\n",
       "      <th>year</th>\n",
       "    </tr>\n",
       "  </thead>\n",
       "  <tbody>\n",
       "    <tr>\n",
       "      <th>0</th>\n",
       "      <td>December</td>\n",
       "      <td>2021</td>\n",
       "    </tr>\n",
       "    <tr>\n",
       "      <th>1</th>\n",
       "      <td>February</td>\n",
       "      <td>2022</td>\n",
       "    </tr>\n",
       "    <tr>\n",
       "      <th>2</th>\n",
       "      <td>September</td>\n",
       "      <td>2021</td>\n",
       "    </tr>\n",
       "    <tr>\n",
       "      <th>3</th>\n",
       "      <td>October</td>\n",
       "      <td>2021</td>\n",
       "    </tr>\n",
       "    <tr>\n",
       "      <th>4</th>\n",
       "      <td>October</td>\n",
       "      <td>2021</td>\n",
       "    </tr>\n",
       "  </tbody>\n",
       "</table>\n",
       "</div>"
      ],
      "text/plain": [
       "       month  year\n",
       "0   December  2021\n",
       "1   February  2022\n",
       "2  September  2021\n",
       "3    October  2021\n",
       "4    October  2021"
      ]
     },
     "execution_count": 18,
     "metadata": {},
     "output_type": "execute_result"
    }
   ],
   "source": [
    "date_split.head()"
   ]
  },
  {
   "cell_type": "code",
   "execution_count": 19,
   "id": "28bf8142",
   "metadata": {},
   "outputs": [],
   "source": [
    "df = pd.concat([df, date_split], axis = 1)"
   ]
  },
  {
   "cell_type": "code",
   "execution_count": 20,
   "id": "a97a17e9",
   "metadata": {},
   "outputs": [
    {
     "data": {
      "text/html": [
       "<div>\n",
       "<style scoped>\n",
       "    .dataframe tbody tr th:only-of-type {\n",
       "        vertical-align: middle;\n",
       "    }\n",
       "\n",
       "    .dataframe tbody tr th {\n",
       "        vertical-align: top;\n",
       "    }\n",
       "\n",
       "    .dataframe thead th {\n",
       "        text-align: right;\n",
       "    }\n",
       "</style>\n",
       "<table border=\"1\" class=\"dataframe\">\n",
       "  <thead>\n",
       "    <tr style=\"text-align: right;\">\n",
       "      <th></th>\n",
       "      <th>title</th>\n",
       "      <th>author</th>\n",
       "      <th>date</th>\n",
       "      <th>views</th>\n",
       "      <th>likes</th>\n",
       "      <th>link</th>\n",
       "      <th>month</th>\n",
       "      <th>year</th>\n",
       "    </tr>\n",
       "  </thead>\n",
       "  <tbody>\n",
       "    <tr>\n",
       "      <th>0</th>\n",
       "      <td>Climate action needs new frontline leadership</td>\n",
       "      <td>Ozawa Bineshi Albert</td>\n",
       "      <td>December 2021</td>\n",
       "      <td>404000</td>\n",
       "      <td>12000</td>\n",
       "      <td>https://ted.com/talks/ozawa_bineshi_albert_climate_action_needs_new_frontline_leadership</td>\n",
       "      <td>December</td>\n",
       "      <td>2021</td>\n",
       "    </tr>\n",
       "    <tr>\n",
       "      <th>1</th>\n",
       "      <td>The dark history of the overthrow of Hawaii</td>\n",
       "      <td>Sydney Iaukea</td>\n",
       "      <td>February 2022</td>\n",
       "      <td>214000</td>\n",
       "      <td>6400</td>\n",
       "      <td>https://ted.com/talks/sydney_iaukea_the_dark_history_of_the_overthrow_of_hawaii</td>\n",
       "      <td>February</td>\n",
       "      <td>2022</td>\n",
       "    </tr>\n",
       "    <tr>\n",
       "      <th>2</th>\n",
       "      <td>How play can spark new ideas for your business</td>\n",
       "      <td>Martin Reeves</td>\n",
       "      <td>September 2021</td>\n",
       "      <td>412000</td>\n",
       "      <td>12000</td>\n",
       "      <td>https://ted.com/talks/martin_reeves_how_play_can_spark_new_ideas_for_your_business</td>\n",
       "      <td>September</td>\n",
       "      <td>2021</td>\n",
       "    </tr>\n",
       "  </tbody>\n",
       "</table>\n",
       "</div>"
      ],
      "text/plain": [
       "                                            title                author  \\\n",
       "0   Climate action needs new frontline leadership  Ozawa Bineshi Albert   \n",
       "1     The dark history of the overthrow of Hawaii         Sydney Iaukea   \n",
       "2  How play can spark new ideas for your business         Martin Reeves   \n",
       "\n",
       "             date   views  likes  \\\n",
       "0   December 2021  404000  12000   \n",
       "1   February 2022  214000   6400   \n",
       "2  September 2021  412000  12000   \n",
       "\n",
       "                                                                                       link  \\\n",
       "0  https://ted.com/talks/ozawa_bineshi_albert_climate_action_needs_new_frontline_leadership   \n",
       "1           https://ted.com/talks/sydney_iaukea_the_dark_history_of_the_overthrow_of_hawaii   \n",
       "2        https://ted.com/talks/martin_reeves_how_play_can_spark_new_ideas_for_your_business   \n",
       "\n",
       "       month  year  \n",
       "0   December  2021  \n",
       "1   February  2022  \n",
       "2  September  2021  "
      ]
     },
     "execution_count": 20,
     "metadata": {},
     "output_type": "execute_result"
    }
   ],
   "source": [
    "df.head(3)"
   ]
  },
  {
   "cell_type": "code",
   "execution_count": 21,
   "id": "76330d64",
   "metadata": {},
   "outputs": [
    {
     "data": {
      "image/png": "[encoded data removed]",
      "text/plain": [
       "<Figure size 576x360 with 1 Axes>"
      ]
     },
     "metadata": {
      "needs_background": "light"
     },
     "output_type": "display_data"
    }
   ],
   "source": [
    "plt.figure(figsize = (8, 5))\n",
    "#df.groupby(['year']).size().reset_index(name='counts').sort_index()\n",
    "df.month.value_counts().sort_index(ascending=True).plot.bar()\n",
    "plt.xlabel(\"Months\")\n",
    "plt.ylabel(\"Frequency\")\n",
    "plt.show()"
   ]
  },
  {
   "cell_type": "code",
   "execution_count": 22,
   "id": "13a6df17",
   "metadata": {},
   "outputs": [
    {
     "data": {
      "image/png": "[encoded data removed]",
      "text/plain": [
       "<Figure size 576x360 with 1 Axes>"
      ]
     },
     "metadata": {
      "needs_background": "light"
     },
     "output_type": "display_data"
    }
   ],
   "source": [
    "# 4. Year-wise Analysis of TED talk frequency\n",
    "\n",
    "plt.figure(figsize = (8, 5))\n",
    "#df.groupby(['year']).size().reset_index(name='counts').sort_index()\n",
    "df.year.value_counts().sort_index(ascending=True).plot.bar()\n",
    "plt.xlabel(\"Years\")\n",
    "plt.ylabel(\"Frequency\")\n",
    "plt.show()"
   ]
  },
  {
   "cell_type": "code",
   "execution_count": 23,
   "id": "91d99591",
   "metadata": {},
   "outputs": [
    {
     "data": {
      "text/html": [
       "<div>\n",
       "<style scoped>\n",
       "    .dataframe tbody tr th:only-of-type {\n",
       "        vertical-align: middle;\n",
       "    }\n",
       "\n",
       "    .dataframe tbody tr th {\n",
       "        vertical-align: top;\n",
       "    }\n",
       "\n",
       "    .dataframe thead th {\n",
       "        text-align: right;\n",
       "    }\n",
       "</style>\n",
       "<table border=\"1\" class=\"dataframe\">\n",
       "  <thead>\n",
       "    <tr style=\"text-align: right;\">\n",
       "      <th></th>\n",
       "      <th>title</th>\n",
       "      <th>author</th>\n",
       "      <th>date</th>\n",
       "      <th>views</th>\n",
       "      <th>likes</th>\n",
       "      <th>link</th>\n",
       "      <th>month</th>\n",
       "      <th>year</th>\n",
       "    </tr>\n",
       "  </thead>\n",
       "  <tbody>\n",
       "    <tr>\n",
       "      <th>422</th>\n",
       "      <td>How would you finish the sentence, \"Imagine if...\"?</td>\n",
       "      <td>Sir Ken Robinson</td>\n",
       "      <td>March 2021</td>\n",
       "      <td>254000</td>\n",
       "      <td>7600</td>\n",
       "      <td>https://ted.com/talks/sir_ken_robinson_how_would_you_finish_the_sentence_imagine_if</td>\n",
       "      <td>March</td>\n",
       "      <td>2021</td>\n",
       "    </tr>\n",
       "    <tr>\n",
       "      <th>3872</th>\n",
       "      <td>How to escape education's death valley</td>\n",
       "      <td>Sir Ken Robinson</td>\n",
       "      <td>April 2013</td>\n",
       "      <td>11000000</td>\n",
       "      <td>351000</td>\n",
       "      <td>https://ted.com/talks/sir_ken_robinson_how_to_escape_education_s_death_valley</td>\n",
       "      <td>April</td>\n",
       "      <td>2013</td>\n",
       "    </tr>\n",
       "    <tr>\n",
       "      <th>4609</th>\n",
       "      <td>Changing education paradigms</td>\n",
       "      <td>Sir Ken Robinson</td>\n",
       "      <td>October 2010</td>\n",
       "      <td>2400000</td>\n",
       "      <td>73000</td>\n",
       "      <td>https://ted.com/talks/sir_ken_robinson_changing_education_paradigms</td>\n",
       "      <td>October</td>\n",
       "      <td>2010</td>\n",
       "    </tr>\n",
       "    <tr>\n",
       "      <th>4750</th>\n",
       "      <td>Bring on the learning revolution!</td>\n",
       "      <td>Sir Ken Robinson</td>\n",
       "      <td>February 2010</td>\n",
       "      <td>10000000</td>\n",
       "      <td>302000</td>\n",
       "      <td>https://ted.com/talks/sir_ken_robinson_bring_on_the_learning_revolution</td>\n",
       "      <td>February</td>\n",
       "      <td>2010</td>\n",
       "    </tr>\n",
       "    <tr>\n",
       "      <th>5436</th>\n",
       "      <td>Do schools kill creativity?</td>\n",
       "      <td>Sir Ken Robinson</td>\n",
       "      <td>February 2006</td>\n",
       "      <td>72000000</td>\n",
       "      <td>2100000</td>\n",
       "      <td>https://ted.com/talks/sir_ken_robinson_do_schools_kill_creativity</td>\n",
       "      <td>February</td>\n",
       "      <td>2006</td>\n",
       "    </tr>\n",
       "  </tbody>\n",
       "</table>\n",
       "</div>"
      ],
      "text/plain": [
       "                                                    title            author  \\\n",
       "422   How would you finish the sentence, \"Imagine if...\"?  Sir Ken Robinson   \n",
       "3872               How to escape education's death valley  Sir Ken Robinson   \n",
       "4609                         Changing education paradigms  Sir Ken Robinson   \n",
       "4750                    Bring on the learning revolution!  Sir Ken Robinson   \n",
       "5436                          Do schools kill creativity?  Sir Ken Robinson   \n",
       "\n",
       "               date     views    likes  \\\n",
       "422      March 2021    254000     7600   \n",
       "3872     April 2013  11000000   351000   \n",
       "4609   October 2010   2400000    73000   \n",
       "4750  February 2010  10000000   302000   \n",
       "5436  February 2006  72000000  2100000   \n",
       "\n",
       "                                                                                     link  \\\n",
       "422   https://ted.com/talks/sir_ken_robinson_how_would_you_finish_the_sentence_imagine_if   \n",
       "3872        https://ted.com/talks/sir_ken_robinson_how_to_escape_education_s_death_valley   \n",
       "4609                  https://ted.com/talks/sir_ken_robinson_changing_education_paradigms   \n",
       "4750              https://ted.com/talks/sir_ken_robinson_bring_on_the_learning_revolution   \n",
       "5436                    https://ted.com/talks/sir_ken_robinson_do_schools_kill_creativity   \n",
       "\n",
       "         month  year  \n",
       "422      March  2021  \n",
       "3872     April  2013  \n",
       "4609   October  2010  \n",
       "4750  February  2010  \n",
       "5436  February  2006  "
      ]
     },
     "execution_count": 23,
     "metadata": {},
     "output_type": "execute_result"
    }
   ],
   "source": [
    "# 5. Finding TED talks of your favorite Author\n",
    "\n",
    "df[df[\"author\"] == \"Sir Ken Robinson\"]"
   ]
  },
  {
   "cell_type": "code",
   "execution_count": 24,
   "id": "d3e5cd2b",
   "metadata": {},
   "outputs": [
    {
     "data": {
      "text/html": [
       "<div>\n",
       "<style scoped>\n",
       "    .dataframe tbody tr th:only-of-type {\n",
       "        vertical-align: middle;\n",
       "    }\n",
       "\n",
       "    .dataframe tbody tr th {\n",
       "        vertical-align: top;\n",
       "    }\n",
       "\n",
       "    .dataframe thead th {\n",
       "        text-align: right;\n",
       "    }\n",
       "</style>\n",
       "<table border=\"1\" class=\"dataframe\">\n",
       "  <thead>\n",
       "    <tr style=\"text-align: right;\">\n",
       "      <th></th>\n",
       "      <th>title</th>\n",
       "      <th>author</th>\n",
       "      <th>date</th>\n",
       "      <th>views</th>\n",
       "      <th>likes</th>\n",
       "      <th>link</th>\n",
       "      <th>month</th>\n",
       "      <th>year</th>\n",
       "      <th>ratio</th>\n",
       "    </tr>\n",
       "  </thead>\n",
       "  <tbody>\n",
       "    <tr>\n",
       "      <th>0</th>\n",
       "      <td>Climate action needs new frontline leadership</td>\n",
       "      <td>Ozawa Bineshi Albert</td>\n",
       "      <td>December 2021</td>\n",
       "      <td>404000</td>\n",
       "      <td>12000</td>\n",
       "      <td>https://ted.com/talks/ozawa_bineshi_albert_climate_action_needs_new_frontline_leadership</td>\n",
       "      <td>December</td>\n",
       "      <td>2021</td>\n",
       "      <td>33.666667</td>\n",
       "    </tr>\n",
       "    <tr>\n",
       "      <th>1</th>\n",
       "      <td>The dark history of the overthrow of Hawaii</td>\n",
       "      <td>Sydney Iaukea</td>\n",
       "      <td>February 2022</td>\n",
       "      <td>214000</td>\n",
       "      <td>6400</td>\n",
       "      <td>https://ted.com/talks/sydney_iaukea_the_dark_history_of_the_overthrow_of_hawaii</td>\n",
       "      <td>February</td>\n",
       "      <td>2022</td>\n",
       "      <td>33.437500</td>\n",
       "    </tr>\n",
       "    <tr>\n",
       "      <th>2</th>\n",
       "      <td>How play can spark new ideas for your business</td>\n",
       "      <td>Martin Reeves</td>\n",
       "      <td>September 2021</td>\n",
       "      <td>412000</td>\n",
       "      <td>12000</td>\n",
       "      <td>https://ted.com/talks/martin_reeves_how_play_can_spark_new_ideas_for_your_business</td>\n",
       "      <td>September</td>\n",
       "      <td>2021</td>\n",
       "      <td>34.333333</td>\n",
       "    </tr>\n",
       "    <tr>\n",
       "      <th>3</th>\n",
       "      <td>Why is China appointing judges to combat climate change?</td>\n",
       "      <td>James K. Thornton</td>\n",
       "      <td>October 2021</td>\n",
       "      <td>427000</td>\n",
       "      <td>12000</td>\n",
       "      <td>https://ted.com/talks/james_k_thornton_why_is_china_appointing_judges_to_combat_climate_change</td>\n",
       "      <td>October</td>\n",
       "      <td>2021</td>\n",
       "      <td>35.583333</td>\n",
       "    </tr>\n",
       "    <tr>\n",
       "      <th>4</th>\n",
       "      <td>Cement's carbon problem — and 2 ways to fix it</td>\n",
       "      <td>Mahendra Singhi</td>\n",
       "      <td>October 2021</td>\n",
       "      <td>2400</td>\n",
       "      <td>72</td>\n",
       "      <td>https://ted.com/talks/mahendra_singhi_cement_s_carbon_problem_and_2_ways_to_fix_it</td>\n",
       "      <td>October</td>\n",
       "      <td>2021</td>\n",
       "      <td>33.333333</td>\n",
       "    </tr>\n",
       "  </tbody>\n",
       "</table>\n",
       "</div>"
      ],
      "text/plain": [
       "                                                      title  \\\n",
       "0             Climate action needs new frontline leadership   \n",
       "1               The dark history of the overthrow of Hawaii   \n",
       "2            How play can spark new ideas for your business   \n",
       "3  Why is China appointing judges to combat climate change?   \n",
       "4            Cement's carbon problem — and 2 ways to fix it   \n",
       "\n",
       "                 author            date   views  likes  \\\n",
       "0  Ozawa Bineshi Albert   December 2021  404000  12000   \n",
       "1         Sydney Iaukea   February 2022  214000   6400   \n",
       "2         Martin Reeves  September 2021  412000  12000   \n",
       "3     James K. Thornton    October 2021  427000  12000   \n",
       "4       Mahendra Singhi    October 2021    2400     72   \n",
       "\n",
       "                                                                                             link  \\\n",
       "0        https://ted.com/talks/ozawa_bineshi_albert_climate_action_needs_new_frontline_leadership   \n",
       "1                 https://ted.com/talks/sydney_iaukea_the_dark_history_of_the_overthrow_of_hawaii   \n",
       "2              https://ted.com/talks/martin_reeves_how_play_can_spark_new_ideas_for_your_business   \n",
       "3  https://ted.com/talks/james_k_thornton_why_is_china_appointing_judges_to_combat_climate_change   \n",
       "4              https://ted.com/talks/mahendra_singhi_cement_s_carbon_problem_and_2_ways_to_fix_it   \n",
       "\n",
       "       month  year      ratio  \n",
       "0   December  2021  33.666667  \n",
       "1   February  2022  33.437500  \n",
       "2  September  2021  34.333333  \n",
       "3    October  2021  35.583333  \n",
       "4    October  2021  33.333333  "
      ]
     },
     "execution_count": 24,
     "metadata": {},
     "output_type": "execute_result"
    }
   ],
   "source": [
    "# 6. Finding TED talks with the best view to like ratio\n",
    "\n",
    "df['ratio'] = df['views']/df['likes']\n",
    "df.head()"
   ]
  },
  {
   "cell_type": "code",
   "execution_count": 25,
   "id": "66098b1d",
   "metadata": {},
   "outputs": [],
   "source": [
    "# 7. Finding TED talks based on tags(like climate)"
   ]
  },
  {
   "cell_type": "code",
   "execution_count": 26,
   "id": "0588c0dd",
   "metadata": {},
   "outputs": [],
   "source": [
    "tag = \"climate\"\n",
    "tag_values = []\n",
    "climate = df.values\n",
    "for i in range(len(climate)):\n",
    "    if tag in climate[i][0].lower():\n",
    "        tag_values.append(climate[i][0])\n",
    "        "
   ]
  },
  {
   "cell_type": "code",
   "execution_count": 27,
   "id": "1efb1281",
   "metadata": {},
   "outputs": [
    {
     "data": {
      "text/plain": [
       "['Climate action needs new frontline leadership',\n",
       " 'Why is China appointing judges to combat climate change?',\n",
       " \"The ocean's ingenious climate solutions\",\n",
       " \"How we're reducing the climate impact of electronics\",\n",
       " 'How to boost nature-based solutions to climate change',\n",
       " 'The unexpected, underwater plant fighting climate change',\n",
       " \"Language shouldn't be a barrier to climate action\",\n",
       " \"It's time to write a new climate story\",\n",
       " 'Use your voice, vote and wallet for climate action',\n",
       " 'A next-generation solution to climate crisis',\n",
       " 'Community investment is the missing piece of climate action',\n",
       " 'Dear world leaders, these are our climate demands',\n",
       " 'An action plan for solving the climate crisis',\n",
       " 'Can climate change ever be funny? 17 comedians try to answer',\n",
       " 'The crucial intersection of climate and capital',\n",
       " 'The powerful women on the front lines of climate action',\n",
       " 'How small countries can make a big impact on climate change',\n",
       " 'How to make radical climate action the new normal',\n",
       " 'The fastest way to slow climate change now',\n",
       " 'Can China achieve its ambitious climate pledges?',\n",
       " 'The state of the climate crisis in 2021',\n",
       " 'Remembering climate change ... a message from the year 2071',\n",
       " 'What if we saw climate change as an amazing challenge, not a burden?',\n",
       " 'What to do when climate change feels unstoppable',\n",
       " 'What farmers need to be modern, climate-friendly and profitable',\n",
       " 'Women and girls, you are part of the climate solution',\n",
       " \"Cities are driving climate change. Here's how they can fix it\",\n",
       " '3 strategies for effectively talking about climate change',\n",
       " \"Earth's original inhabitants — and their role in combating climate change\",\n",
       " 'How we can curb climate change by spending two percent more on everything',\n",
       " 'The innovations we need to avoid a climate disaster',\n",
       " 'Love, sorrow and the emotions that power climate action',\n",
       " \"Climate change is our reality. Here's how we're taking action\",\n",
       " \"The people who caused the climate crisis aren't the ones who will fix it\",\n",
       " 'Community-powered solutions to the climate crisis',\n",
       " 'Our moral imperative to act on climate change — and 3 steps we can take (English voiceover)',\n",
       " 'How carbon capture networks could help curb climate change',\n",
       " \"A chef shares: Here's how we can feed the planet without hurting the climate\\xa0\",\n",
       " 'To save the climate, we have to reimagine capitalism',\n",
       " 'The energy Africa needs to develop — and fight climate change',\n",
       " 'The case for stubborn optimism on climate',\n",
       " 'Climate change is becoming a problem you can taste',\n",
       " \"Amazon's climate pledge to be net-zero by 2040\",\n",
       " 'Make your actions on climate reflect your words\\t',\n",
       " \"Climate justice can't happen without racial justice\",\n",
       " 'Our moral imperative to act on climate change — and 3 steps we can take',\n",
       " 'The state of the climate crisis\\tin 2020',\n",
       " 'A game that lets you decide how to tackle the climate crisis',\n",
       " 'How city mayors are taking action on climate change',\n",
       " 'The new urgency of climate change',\n",
       " 'The economic benefits of climate action ',\n",
       " 'The link between climate change, health and poverty',\n",
       " 'Indigenous knowledge meets science to take on climate change',\n",
       " \"How we could change the planet's climate future\",\n",
       " 'How to turn climate anxiety into action',\n",
       " 'What ocean microbes reveal about the changing climate',\n",
       " \"Climate change will displace millions. Here's how we prepare\",\n",
       " 'How we can turn the tide on climate',\n",
       " 'Why I protest for climate justice',\n",
       " 'How climate change could make our food less nutritious',\n",
       " 'Why you should be a climate activist',\n",
       " \"A climate change solution that's right under our feet\",\n",
       " 'Emergency medicine for our climate fever',\n",
       " 'How climate change affects your mental health',\n",
       " 'Underwater farms vs. climate change',\n",
       " 'How supercharged plants could slow climate change',\n",
       " 'An app that predicts the impact of global climate change',\n",
       " 'Visualizing climate change through space and time',\n",
       " 'The disarming case to act right now on climate change',\n",
       " 'The most important thing you can do to fight climate change: talk about it',\n",
       " \"How China is (and isn't) fighting pollution and climate change\",\n",
       " 'How the military fights climate change',\n",
       " 'Can we stop climate change by removing CO2 from the air?',\n",
       " 'Can clouds buy us more time to solve climate change?',\n",
       " 'A climate solution where all sides can win',\n",
       " 'We need nuclear power to solve climate change',\n",
       " 'A provocative way to finance the fight against climate change',\n",
       " 'The inside story of the Paris climate agreement',\n",
       " 'The case for optimism on climate change',\n",
       " \"Climate change is happening. Here's how we adapt\",\n",
       " 'Why climate change is a threat to human rights',\n",
       " 'The state of the climate — and what we might do about it',\n",
       " 'The emergent patterns of climate change',\n",
       " 'How to fight desertification and reverse climate change',\n",
       " \"Let's prepare for our new climate\",\n",
       " 'Why I must speak out about climate change',\n",
       " 'Discovering ancient climates in oceans and ice',\n",
       " 'The science behind a climate headline',\n",
       " 'New thinking on the climate crisis',\n",
       " 'A critical look at geoengineering against climate change',\n",
       " 'Global priorities bigger than climate change',\n",
       " 'Averting the climate crisis']"
      ]
     },
     "execution_count": 27,
     "metadata": {},
     "output_type": "execute_result"
    }
   ],
   "source": [
    "tag_values"
   ]
  },
  {
   "cell_type": "code",
   "execution_count": 28,
   "id": "fdc7c427",
   "metadata": {},
   "outputs": [
    {
     "data": {
      "text/html": [
       "<div>\n",
       "<style scoped>\n",
       "    .dataframe tbody tr th:only-of-type {\n",
       "        vertical-align: middle;\n",
       "    }\n",
       "\n",
       "    .dataframe tbody tr th {\n",
       "        vertical-align: top;\n",
       "    }\n",
       "\n",
       "    .dataframe thead th {\n",
       "        text-align: right;\n",
       "    }\n",
       "</style>\n",
       "<table border=\"1\" class=\"dataframe\">\n",
       "  <thead>\n",
       "    <tr style=\"text-align: right;\">\n",
       "      <th></th>\n",
       "      <th>title</th>\n",
       "      <th>author</th>\n",
       "      <th>date</th>\n",
       "      <th>views</th>\n",
       "      <th>likes</th>\n",
       "      <th>link</th>\n",
       "      <th>month</th>\n",
       "      <th>year</th>\n",
       "      <th>ratio</th>\n",
       "    </tr>\n",
       "  </thead>\n",
       "  <tbody>\n",
       "    <tr>\n",
       "      <th>5436</th>\n",
       "      <td>Do schools kill creativity?</td>\n",
       "      <td>Sir Ken Robinson</td>\n",
       "      <td>February 2006</td>\n",
       "      <td>72000000</td>\n",
       "      <td>2100000</td>\n",
       "      <td>https://ted.com/talks/sir_ken_robinson_do_schools_kill_creativity</td>\n",
       "      <td>February</td>\n",
       "      <td>2006</td>\n",
       "      <td>34.285714</td>\n",
       "    </tr>\n",
       "    <tr>\n",
       "      <th>4084</th>\n",
       "      <td>Your body language may shape who you are</td>\n",
       "      <td>Amy Cuddy</td>\n",
       "      <td>June 2012</td>\n",
       "      <td>64000000</td>\n",
       "      <td>1900000</td>\n",
       "      <td>https://ted.com/talks/amy_cuddy_your_body_language_may_shape_who_you_are</td>\n",
       "      <td>June</td>\n",
       "      <td>2012</td>\n",
       "      <td>33.684211</td>\n",
       "    </tr>\n",
       "    <tr>\n",
       "      <th>2958</th>\n",
       "      <td>Inside the mind of a master procrastinator</td>\n",
       "      <td>Tim Urban</td>\n",
       "      <td>February 2016</td>\n",
       "      <td>60000000</td>\n",
       "      <td>1800000</td>\n",
       "      <td>https://ted.com/talks/tim_urban_inside_the_mind_of_a_master_procrastinator</td>\n",
       "      <td>February</td>\n",
       "      <td>2016</td>\n",
       "      <td>33.333333</td>\n",
       "    </tr>\n",
       "    <tr>\n",
       "      <th>4765</th>\n",
       "      <td>How great leaders inspire action</td>\n",
       "      <td>Simon Sinek</td>\n",
       "      <td>September 2009</td>\n",
       "      <td>57000000</td>\n",
       "      <td>1700000</td>\n",
       "      <td>https://ted.com/talks/simon_sinek_how_great_leaders_inspire_action</td>\n",
       "      <td>September</td>\n",
       "      <td>2009</td>\n",
       "      <td>33.529412</td>\n",
       "    </tr>\n",
       "    <tr>\n",
       "      <th>4605</th>\n",
       "      <td>The power of vulnerability</td>\n",
       "      <td>Brené Brown</td>\n",
       "      <td>June 2010</td>\n",
       "      <td>56000000</td>\n",
       "      <td>1700000</td>\n",
       "      <td>https://ted.com/talks/brene_brown_the_power_of_vulnerability</td>\n",
       "      <td>June</td>\n",
       "      <td>2010</td>\n",
       "      <td>32.941176</td>\n",
       "    </tr>\n",
       "  </tbody>\n",
       "</table>\n",
       "</div>"
      ],
      "text/plain": [
       "                                           title            author  \\\n",
       "5436                 Do schools kill creativity?  Sir Ken Robinson   \n",
       "4084    Your body language may shape who you are         Amy Cuddy   \n",
       "2958  Inside the mind of a master procrastinator         Tim Urban   \n",
       "4765            How great leaders inspire action       Simon Sinek   \n",
       "4605                  The power of vulnerability       Brené Brown   \n",
       "\n",
       "                date     views    likes  \\\n",
       "5436   February 2006  72000000  2100000   \n",
       "4084       June 2012  64000000  1900000   \n",
       "2958   February 2016  60000000  1800000   \n",
       "4765  September 2009  57000000  1700000   \n",
       "4605       June 2010  56000000  1700000   \n",
       "\n",
       "                                                                            link  \\\n",
       "5436           https://ted.com/talks/sir_ken_robinson_do_schools_kill_creativity   \n",
       "4084    https://ted.com/talks/amy_cuddy_your_body_language_may_shape_who_you_are   \n",
       "2958  https://ted.com/talks/tim_urban_inside_the_mind_of_a_master_procrastinator   \n",
       "4765          https://ted.com/talks/simon_sinek_how_great_leaders_inspire_action   \n",
       "4605                https://ted.com/talks/brene_brown_the_power_of_vulnerability   \n",
       "\n",
       "          month  year      ratio  \n",
       "5436   February  2006  34.285714  \n",
       "4084       June  2012  33.684211  \n",
       "2958   February  2016  33.333333  \n",
       "4765  September  2009  33.529412  \n",
       "4605       June  2010  32.941176  "
      ]
     },
     "execution_count": 28,
     "metadata": {},
     "output_type": "execute_result"
    }
   ],
   "source": [
    "# 8. Finding the most popular TED talks Speaker (in terms of number of views)\n",
    "df.sort_values(by = 'views', ascending=False).head()"
   ]
  },
  {
   "cell_type": "markdown",
   "id": "7999b663",
   "metadata": {},
   "source": [
    "## Summary\n",
    "\n",
    "Based on our EDA the following are our observations:\n",
    "\n",
    "- The most popular Ted Talk is 'Do schools kill creativity' by Sir Ken Robinson with over 72 million views!\n",
    "- The most popular Ted Talk by the total numbers of talks is Alex Gendler. He has delivered 45 talks to date!\n",
    "- The month with the highest frequency of Ted Talks is February followed by November.\n",
    "- The highest number of Ted Talks took place in the year 2019 followed by 2020.\n",
    "- We found that our favourite author Sir Ken Robinson has delivered 5 Ted Talks till date. His first talk was 'Do Schools kill creativity?' which also happens to be the most watched Ted Talk of all time.\n",
    "- Top 3 Ted Talks with the best Views to Likes ratios are 'A camera that can see around corners', What's the point(e) of ballet? and 'How to see more and care less: The art of Georgia O'Keeffe'. They had a ratio of 36.4.\n",
    "- Generated 92 Title names results from a string search using the keyword 'Climate'.\n",
    "- The Ted Talk speaker with the highest number of views is our favourite Sir Ken Robinson (72M+views).\n"
   ]
  },
  {
   "cell_type": "markdown",
   "id": "e0c02a73",
   "metadata": {},
   "source": [
    "Links to our profiles:\n",
    " - Kaggle - https://www.kaggle.com/akshaykshetty | https://www.kaggle.com/akshaykshetty\n",
    " - Github - https://github.com/akshaykshetty     | https://github.com/Lovepreet12a"
   ]
  }
 ],
 "metadata": {
  "kernelspec": {
   "display_name": "Python 3 (ipykernel)",
   "language": "python",
   "name": "python3"
  },
  "language_info": {
   "codemirror_mode": {
    "name": "ipython",
    "version": 3
   },
   "file_extension": ".py",
   "mimetype": "text/x-python",
   "name": "python",
   "nbconvert_exporter": "python",
   "pygments_lexer": "ipython3",
   "version": "3.9.7"
  }
 },
 "nbformat": 4,
 "nbformat_minor": 5
}
